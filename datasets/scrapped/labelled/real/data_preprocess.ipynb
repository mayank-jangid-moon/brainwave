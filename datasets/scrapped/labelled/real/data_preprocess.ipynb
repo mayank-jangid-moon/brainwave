{
 "cells": [
  {
   "cell_type": "code",
   "execution_count": 1108,
   "id": "721066ab-e31f-455d-829b-117671dad01b",
   "metadata": {},
   "outputs": [],
   "source": [
    "import pandas as pd\n",
    "import numpy as np\n",
    "import matplotlib.pyplot as plt"
   ]
  },
  {
   "cell_type": "code",
   "execution_count": 1109,
   "id": "5722911a-13b3-46e8-a4a6-fbe30787da9f",
   "metadata": {},
   "outputs": [],
   "source": [
    "df1 = pd.read_json(\"dataset_utkarsh.json\")\n",
    "df2 = pd.read_json(\"dataset_tazerr.json\")\n",
    "df3 =  pd.read_csv(\"../fake/compiled_output.csv\")\n"
   ]
  },
  {
   "cell_type": "code",
   "execution_count": 1110,
   "id": "b04cc75e-6564-4551-a6c7-672658c53cca",
   "metadata": {},
   "outputs": [
    {
     "data": {
      "text/plain": [
       "Index(['inputUrl', 'id', 'username', 'url', 'fullName', 'biography',\n",
       "       'followersCount', 'followsCount', 'hasChannel', 'highlightReelCount',\n",
       "       'isBusinessAccount', 'joinedRecently', 'businessCategoryName',\n",
       "       'private', 'verified', 'profilePicUrl', 'profilePicUrlHD',\n",
       "       'igtvVideoCount', 'relatedProfiles', 'latestIgtvVideos', 'postsCount',\n",
       "       'latestPosts', 'externalUrl', 'externalUrlShimmed', 'error',\n",
       "       'isRestrictedProfile', 'restrictionReason'],\n",
       "      dtype='object')"
      ]
     },
     "execution_count": 1110,
     "metadata": {},
     "output_type": "execute_result"
    }
   ],
   "source": [
    "df1.columns"
   ]
  },
  {
   "cell_type": "code",
   "execution_count": 1111,
   "id": "741a9096-55cf-4f45-90ad-d2b8f8101d5a",
   "metadata": {},
   "outputs": [
    {
     "data": {
      "text/plain": [
       "Index(['inputUrl', 'id', 'username', 'url', 'fullName', 'biography',\n",
       "       'externalUrl', 'externalUrlShimmed', 'followersCount', 'followsCount',\n",
       "       'hasChannel', 'highlightReelCount', 'isBusinessAccount',\n",
       "       'joinedRecently', 'businessCategoryName', 'private', 'verified',\n",
       "       'profilePicUrl', 'profilePicUrlHD', 'igtvVideoCount', 'relatedProfiles',\n",
       "       'latestIgtvVideos', 'postsCount', 'latestPosts'],\n",
       "      dtype='object')"
      ]
     },
     "execution_count": 1111,
     "metadata": {},
     "output_type": "execute_result"
    }
   ],
   "source": [
    "df2.columns"
   ]
  },
  {
   "cell_type": "code",
   "execution_count": 1112,
   "id": "b70967c2-109d-40a1-a096-82d95a72be84",
   "metadata": {},
   "outputs": [
    {
     "data": {
      "text/plain": [
       "Index(['user_biography', 'user_followers', 'user_following', 'user_is_private',\n",
       "       'user_is_verified', 'user_username', 'user_media_count',\n",
       "       'latest_media_comments', 'latest_media_likes'],\n",
       "      dtype='object')"
      ]
     },
     "execution_count": 1112,
     "metadata": {},
     "output_type": "execute_result"
    }
   ],
   "source": [
    "df3.columns"
   ]
  },
  {
   "cell_type": "code",
   "execution_count": 1113,
   "id": "b285aaf7-642e-4318-8218-cf0825469191",
   "metadata": {},
   "outputs": [
    {
     "data": {
      "text/html": [
       "<div>\n",
       "<style scoped>\n",
       "    .dataframe tbody tr th:only-of-type {\n",
       "        vertical-align: middle;\n",
       "    }\n",
       "\n",
       "    .dataframe tbody tr th {\n",
       "        vertical-align: top;\n",
       "    }\n",
       "\n",
       "    .dataframe thead th {\n",
       "        text-align: right;\n",
       "    }\n",
       "</style>\n",
       "<table border=\"1\" class=\"dataframe\">\n",
       "  <thead>\n",
       "    <tr style=\"text-align: right;\">\n",
       "      <th></th>\n",
       "      <th>inputUrl</th>\n",
       "      <th>id</th>\n",
       "      <th>username</th>\n",
       "      <th>url</th>\n",
       "      <th>fullName</th>\n",
       "      <th>biography</th>\n",
       "      <th>followersCount</th>\n",
       "      <th>followsCount</th>\n",
       "      <th>hasChannel</th>\n",
       "      <th>highlightReelCount</th>\n",
       "      <th>...</th>\n",
       "      <th>igtvVideoCount</th>\n",
       "      <th>relatedProfiles</th>\n",
       "      <th>latestIgtvVideos</th>\n",
       "      <th>postsCount</th>\n",
       "      <th>latestPosts</th>\n",
       "      <th>externalUrl</th>\n",
       "      <th>externalUrlShimmed</th>\n",
       "      <th>error</th>\n",
       "      <th>isRestrictedProfile</th>\n",
       "      <th>restrictionReason</th>\n",
       "    </tr>\n",
       "  </thead>\n",
       "  <tbody>\n",
       "    <tr>\n",
       "      <th>0</th>\n",
       "      <td>https://www.instagram.com/gangesh.c_07</td>\n",
       "      <td>51578445672</td>\n",
       "      <td>gangesh.c_07</td>\n",
       "      <td>https://www.instagram.com/gangesh.c_07</td>\n",
       "      <td>Gangesh Chopra</td>\n",
       "      <td>:)\\ndldavsb'24\\nDTU MCE'28 🎓</td>\n",
       "      <td>278.0</td>\n",
       "      <td>361.0</td>\n",
       "      <td>0.0</td>\n",
       "      <td>0.0</td>\n",
       "      <td>...</td>\n",
       "      <td>0.0</td>\n",
       "      <td>[]</td>\n",
       "      <td>[]</td>\n",
       "      <td>0.0</td>\n",
       "      <td>[]</td>\n",
       "      <td>NaN</td>\n",
       "      <td>NaN</td>\n",
       "      <td>NaN</td>\n",
       "      <td>NaN</td>\n",
       "      <td>NaN</td>\n",
       "    </tr>\n",
       "    <tr>\n",
       "      <th>1</th>\n",
       "      <td>https://www.instagram.com/rahul._.gg</td>\n",
       "      <td>5700053758</td>\n",
       "      <td>rahul._.gg</td>\n",
       "      <td>https://www.instagram.com/rahul._.gg</td>\n",
       "      <td>Rahul</td>\n",
       "      <td>🇮🇳🇸🇦\\n🥀</td>\n",
       "      <td>491.0</td>\n",
       "      <td>553.0</td>\n",
       "      <td>0.0</td>\n",
       "      <td>0.0</td>\n",
       "      <td>...</td>\n",
       "      <td>0.0</td>\n",
       "      <td>[]</td>\n",
       "      <td>[]</td>\n",
       "      <td>0.0</td>\n",
       "      <td>[]</td>\n",
       "      <td>NaN</td>\n",
       "      <td>NaN</td>\n",
       "      <td>NaN</td>\n",
       "      <td>NaN</td>\n",
       "      <td>NaN</td>\n",
       "    </tr>\n",
       "    <tr>\n",
       "      <th>2</th>\n",
       "      <td>https://www.instagram.com/apparentlydaksh</td>\n",
       "      <td>66222558778</td>\n",
       "      <td>apparentlydaksh</td>\n",
       "      <td>https://www.instagram.com/apparentlydaksh</td>\n",
       "      <td>Daksh Kadyan</td>\n",
       "      <td>DTU’28</td>\n",
       "      <td>154.0</td>\n",
       "      <td>151.0</td>\n",
       "      <td>0.0</td>\n",
       "      <td>0.0</td>\n",
       "      <td>...</td>\n",
       "      <td>0.0</td>\n",
       "      <td>[]</td>\n",
       "      <td>[]</td>\n",
       "      <td>0.0</td>\n",
       "      <td>[]</td>\n",
       "      <td>NaN</td>\n",
       "      <td>NaN</td>\n",
       "      <td>NaN</td>\n",
       "      <td>NaN</td>\n",
       "      <td>NaN</td>\n",
       "    </tr>\n",
       "    <tr>\n",
       "      <th>3</th>\n",
       "      <td>https://www.instagram.com/rishabhraj1024</td>\n",
       "      <td>69630558552</td>\n",
       "      <td>rishabhraj1024</td>\n",
       "      <td>https://www.instagram.com/rishabhraj1024</td>\n",
       "      <td>Rishabh Raj</td>\n",
       "      <td>An introvert\\nDTU{DCE} '28\\nSoftware Engineering</td>\n",
       "      <td>116.0</td>\n",
       "      <td>151.0</td>\n",
       "      <td>0.0</td>\n",
       "      <td>0.0</td>\n",
       "      <td>...</td>\n",
       "      <td>0.0</td>\n",
       "      <td>[]</td>\n",
       "      <td>[]</td>\n",
       "      <td>0.0</td>\n",
       "      <td>[]</td>\n",
       "      <td>NaN</td>\n",
       "      <td>NaN</td>\n",
       "      <td>NaN</td>\n",
       "      <td>NaN</td>\n",
       "      <td>NaN</td>\n",
       "    </tr>\n",
       "    <tr>\n",
       "      <th>4</th>\n",
       "      <td>https://www.instagram.com/ashish.kr_04</td>\n",
       "      <td>67645285247</td>\n",
       "      <td>ashish.kr_04</td>\n",
       "      <td>https://www.instagram.com/ashish.kr_04</td>\n",
       "      <td>Ashish Kumar Jha</td>\n",
       "      <td>DTU (DCE)''28</td>\n",
       "      <td>156.0</td>\n",
       "      <td>185.0</td>\n",
       "      <td>0.0</td>\n",
       "      <td>0.0</td>\n",
       "      <td>...</td>\n",
       "      <td>0.0</td>\n",
       "      <td>[]</td>\n",
       "      <td>[]</td>\n",
       "      <td>0.0</td>\n",
       "      <td>[]</td>\n",
       "      <td>NaN</td>\n",
       "      <td>NaN</td>\n",
       "      <td>NaN</td>\n",
       "      <td>NaN</td>\n",
       "      <td>NaN</td>\n",
       "    </tr>\n",
       "  </tbody>\n",
       "</table>\n",
       "<p>5 rows × 27 columns</p>\n",
       "</div>"
      ],
      "text/plain": [
       "                                    inputUrl           id         username  \\\n",
       "0     https://www.instagram.com/gangesh.c_07  51578445672     gangesh.c_07   \n",
       "1       https://www.instagram.com/rahul._.gg   5700053758       rahul._.gg   \n",
       "2  https://www.instagram.com/apparentlydaksh  66222558778  apparentlydaksh   \n",
       "3   https://www.instagram.com/rishabhraj1024  69630558552   rishabhraj1024   \n",
       "4     https://www.instagram.com/ashish.kr_04  67645285247     ashish.kr_04   \n",
       "\n",
       "                                         url          fullName  \\\n",
       "0     https://www.instagram.com/gangesh.c_07    Gangesh Chopra   \n",
       "1       https://www.instagram.com/rahul._.gg             Rahul   \n",
       "2  https://www.instagram.com/apparentlydaksh      Daksh Kadyan   \n",
       "3   https://www.instagram.com/rishabhraj1024       Rishabh Raj   \n",
       "4     https://www.instagram.com/ashish.kr_04  Ashish Kumar Jha   \n",
       "\n",
       "                                          biography  followersCount  \\\n",
       "0                      :)\\ndldavsb'24\\nDTU MCE'28 🎓           278.0   \n",
       "1                                           🇮🇳🇸🇦\\n🥀           491.0   \n",
       "2                                            DTU’28           154.0   \n",
       "3  An introvert\\nDTU{DCE} '28\\nSoftware Engineering           116.0   \n",
       "4                                     DTU (DCE)''28           156.0   \n",
       "\n",
       "   followsCount  hasChannel  highlightReelCount  ...  igtvVideoCount  \\\n",
       "0         361.0         0.0                 0.0  ...             0.0   \n",
       "1         553.0         0.0                 0.0  ...             0.0   \n",
       "2         151.0         0.0                 0.0  ...             0.0   \n",
       "3         151.0         0.0                 0.0  ...             0.0   \n",
       "4         185.0         0.0                 0.0  ...             0.0   \n",
       "\n",
       "   relatedProfiles latestIgtvVideos  postsCount  latestPosts externalUrl  \\\n",
       "0               []               []         0.0           []         NaN   \n",
       "1               []               []         0.0           []         NaN   \n",
       "2               []               []         0.0           []         NaN   \n",
       "3               []               []         0.0           []         NaN   \n",
       "4               []               []         0.0           []         NaN   \n",
       "\n",
       "  externalUrlShimmed  error isRestrictedProfile restrictionReason  \n",
       "0                NaN    NaN                 NaN               NaN  \n",
       "1                NaN    NaN                 NaN               NaN  \n",
       "2                NaN    NaN                 NaN               NaN  \n",
       "3                NaN    NaN                 NaN               NaN  \n",
       "4                NaN    NaN                 NaN               NaN  \n",
       "\n",
       "[5 rows x 27 columns]"
      ]
     },
     "execution_count": 1113,
     "metadata": {},
     "output_type": "execute_result"
    }
   ],
   "source": [
    "df1.head()"
   ]
  },
  {
   "cell_type": "code",
   "execution_count": 1114,
   "id": "bd7a51b1-2c23-47bc-a2ef-b5ca32ef5b2d",
   "metadata": {},
   "outputs": [],
   "source": [
    "df1 = df1.drop(list(set(df1.columns) - set(df2.columns)), axis=\"columns\")"
   ]
  },
  {
   "cell_type": "code",
   "execution_count": 1115,
   "id": "66eaf3de-366d-4117-b347-ea63da5c7660",
   "metadata": {},
   "outputs": [
    {
     "data": {
      "text/plain": [
       "24"
      ]
     },
     "execution_count": 1115,
     "metadata": {},
     "output_type": "execute_result"
    }
   ],
   "source": [
    "len(df1.columns)"
   ]
  },
  {
   "cell_type": "code",
   "execution_count": 1116,
   "id": "797158c1-1ef5-449d-8e13-e1a7e55d5202",
   "metadata": {},
   "outputs": [],
   "source": [
    "df1 = df1.drop([\"inputUrl\", \"id\", \"url\", \"profilePicUrl\", \"profilePicUrlHD\", \"externalUrl\", \"externalUrlShimmed\"], axis=\"columns\")\n",
    "df2 = df2.drop([\"inputUrl\", \"id\", \"url\", \"profilePicUrl\", \"profilePicUrlHD\", \"externalUrl\", \"externalUrlShimmed\"], axis=\"columns\")"
   ]
  },
  {
   "cell_type": "code",
   "execution_count": 1117,
   "id": "f4a6b66a-17d9-4da8-b2b0-89d906432e3c",
   "metadata": {},
   "outputs": [],
   "source": [
    "df1.drop(\"fullName\", axis=\"columns\", inplace=True)\n",
    "df2.drop(\"fullName\", axis=\"columns\", inplace=True)"
   ]
  },
  {
   "cell_type": "code",
   "execution_count": 1118,
   "id": "0173a2c4-fccb-44c7-8ba4-a84860832e87",
   "metadata": {},
   "outputs": [
    {
     "data": {
      "text/plain": [
       "Index(['user_biography', 'user_followers', 'user_following', 'user_is_private',\n",
       "       'user_is_verified', 'user_username', 'user_media_count',\n",
       "       'latest_media_comments', 'latest_media_likes'],\n",
       "      dtype='object')"
      ]
     },
     "execution_count": 1118,
     "metadata": {},
     "output_type": "execute_result"
    }
   ],
   "source": [
    "df3.columns"
   ]
  },
  {
   "cell_type": "code",
   "execution_count": 1119,
   "id": "1d2233d8-e865-4afd-bd0b-d1f7f3942248",
   "metadata": {},
   "outputs": [
    {
     "data": {
      "text/html": [
       "<div>\n",
       "<style scoped>\n",
       "    .dataframe tbody tr th:only-of-type {\n",
       "        vertical-align: middle;\n",
       "    }\n",
       "\n",
       "    .dataframe tbody tr th {\n",
       "        vertical-align: top;\n",
       "    }\n",
       "\n",
       "    .dataframe thead th {\n",
       "        text-align: right;\n",
       "    }\n",
       "</style>\n",
       "<table border=\"1\" class=\"dataframe\">\n",
       "  <thead>\n",
       "    <tr style=\"text-align: right;\">\n",
       "      <th></th>\n",
       "      <th>user_biography</th>\n",
       "      <th>user_followers</th>\n",
       "      <th>user_following</th>\n",
       "      <th>user_is_private</th>\n",
       "      <th>user_is_verified</th>\n",
       "      <th>user_username</th>\n",
       "      <th>user_media_count</th>\n",
       "      <th>latest_media_comments</th>\n",
       "      <th>latest_media_likes</th>\n",
       "    </tr>\n",
       "  </thead>\n",
       "  <tbody>\n",
       "    <tr>\n",
       "      <th>0</th>\n",
       "      <td>NaN</td>\n",
       "      <td>1027</td>\n",
       "      <td>1932</td>\n",
       "      <td>False</td>\n",
       "      <td>False</td>\n",
       "      <td>a.a.ghasami20</td>\n",
       "      <td>1</td>\n",
       "      <td>1.0</td>\n",
       "      <td>122.0</td>\n",
       "    </tr>\n",
       "    <tr>\n",
       "      <th>1</th>\n",
       "      <td>NaN</td>\n",
       "      <td>105</td>\n",
       "      <td>7195</td>\n",
       "      <td>False</td>\n",
       "      <td>False</td>\n",
       "      <td>amirijik1</td>\n",
       "      <td>9</td>\n",
       "      <td>0.0</td>\n",
       "      <td>2.0</td>\n",
       "    </tr>\n",
       "    <tr>\n",
       "      <th>2</th>\n",
       "      <td>NaN</td>\n",
       "      <td>98</td>\n",
       "      <td>1900</td>\n",
       "      <td>False</td>\n",
       "      <td>False</td>\n",
       "      <td>mohamah.kurd</td>\n",
       "      <td>4</td>\n",
       "      <td>0.0</td>\n",
       "      <td>10.0</td>\n",
       "    </tr>\n",
       "    <tr>\n",
       "      <th>3</th>\n",
       "      <td>NaN</td>\n",
       "      <td>124</td>\n",
       "      <td>7336</td>\n",
       "      <td>False</td>\n",
       "      <td>False</td>\n",
       "      <td>golmar0543</td>\n",
       "      <td>10</td>\n",
       "      <td>0.0</td>\n",
       "      <td>1.0</td>\n",
       "    </tr>\n",
       "    <tr>\n",
       "      <th>4</th>\n",
       "      <td>NaN</td>\n",
       "      <td>83</td>\n",
       "      <td>2410</td>\n",
       "      <td>True</td>\n",
       "      <td>False</td>\n",
       "      <td>sadegh_abde</td>\n",
       "      <td>24</td>\n",
       "      <td>NaN</td>\n",
       "      <td>NaN</td>\n",
       "    </tr>\n",
       "  </tbody>\n",
       "</table>\n",
       "</div>"
      ],
      "text/plain": [
       "  user_biography  user_followers  user_following  user_is_private  \\\n",
       "0            NaN            1027            1932            False   \n",
       "1            NaN             105            7195            False   \n",
       "2            NaN              98            1900            False   \n",
       "3            NaN             124            7336            False   \n",
       "4            NaN              83            2410             True   \n",
       "\n",
       "   user_is_verified  user_username  user_media_count  latest_media_comments  \\\n",
       "0             False  a.a.ghasami20                 1                    1.0   \n",
       "1             False      amirijik1                 9                    0.0   \n",
       "2             False   mohamah.kurd                 4                    0.0   \n",
       "3             False     golmar0543                10                    0.0   \n",
       "4             False    sadegh_abde                24                    NaN   \n",
       "\n",
       "   latest_media_likes  \n",
       "0               122.0  \n",
       "1                 2.0  \n",
       "2                10.0  \n",
       "3                 1.0  \n",
       "4                 NaN  "
      ]
     },
     "execution_count": 1119,
     "metadata": {},
     "output_type": "execute_result"
    }
   ],
   "source": [
    "df3.head()"
   ]
  },
  {
   "cell_type": "code",
   "execution_count": 1120,
   "id": "cb799918-2cc3-4ce2-8c24-2a1c67b6e1c3",
   "metadata": {},
   "outputs": [
    {
     "data": {
      "text/plain": [
       "Index(['username', 'biography', 'followersCount', 'followsCount', 'hasChannel',\n",
       "       'highlightReelCount', 'isBusinessAccount', 'joinedRecently',\n",
       "       'businessCategoryName', 'private', 'verified', 'igtvVideoCount',\n",
       "       'relatedProfiles', 'latestIgtvVideos', 'postsCount', 'latestPosts'],\n",
       "      dtype='object')"
      ]
     },
     "execution_count": 1120,
     "metadata": {},
     "output_type": "execute_result"
    }
   ],
   "source": [
    "df1.columns"
   ]
  },
  {
   "cell_type": "code",
   "execution_count": 1121,
   "id": "bf35e643-3a1a-4449-9705-45778638c93c",
   "metadata": {},
   "outputs": [],
   "source": [
    "df1[\"username_len\"] = df1[\"username\"].apply(len)\n",
    "df2[\"username_len\"] = df2[\"username\"].apply(len)\n",
    "df3[\"username_len\"] = df3[\"user_username\"].apply(len)"
   ]
  },
  {
   "cell_type": "code",
   "execution_count": 1122,
   "id": "fded6db2-662e-4521-a13b-d73a423f7999",
   "metadata": {},
   "outputs": [],
   "source": [
    "def num_count(str):\n",
    "    count = 0\n",
    "    for i in str:\n",
    "        try:\n",
    "            x = int(i)\n",
    "        except:\n",
    "            pass\n",
    "        else:\n",
    "            count += 1\n",
    "    return count"
   ]
  },
  {
   "cell_type": "code",
   "execution_count": 1123,
   "id": "3616fd0e-461f-49ab-8ec6-b999e1064fcd",
   "metadata": {},
   "outputs": [],
   "source": [
    "df1[\"username_num_count\"] = df1[\"username\"].apply(num_count)\n",
    "df2[\"username_num_count\"] = df2[\"username\"].apply(num_count)\n",
    "df3[\"username_num_count\"] = df3[\"user_username\"].apply(num_count)\n"
   ]
  },
  {
   "cell_type": "code",
   "execution_count": 1124,
   "id": "d5eafdac-5649-4ec1-8f92-5ece4c8a4ee3",
   "metadata": {},
   "outputs": [
    {
     "data": {
      "text/html": [
       "<div>\n",
       "<style scoped>\n",
       "    .dataframe tbody tr th:only-of-type {\n",
       "        vertical-align: middle;\n",
       "    }\n",
       "\n",
       "    .dataframe tbody tr th {\n",
       "        vertical-align: top;\n",
       "    }\n",
       "\n",
       "    .dataframe thead th {\n",
       "        text-align: right;\n",
       "    }\n",
       "</style>\n",
       "<table border=\"1\" class=\"dataframe\">\n",
       "  <thead>\n",
       "    <tr style=\"text-align: right;\">\n",
       "      <th></th>\n",
       "      <th>username</th>\n",
       "      <th>biography</th>\n",
       "      <th>followersCount</th>\n",
       "      <th>followsCount</th>\n",
       "      <th>hasChannel</th>\n",
       "      <th>highlightReelCount</th>\n",
       "      <th>isBusinessAccount</th>\n",
       "      <th>joinedRecently</th>\n",
       "      <th>businessCategoryName</th>\n",
       "      <th>private</th>\n",
       "      <th>verified</th>\n",
       "      <th>igtvVideoCount</th>\n",
       "      <th>relatedProfiles</th>\n",
       "      <th>latestIgtvVideos</th>\n",
       "      <th>postsCount</th>\n",
       "      <th>latestPosts</th>\n",
       "      <th>username_len</th>\n",
       "      <th>username_num_count</th>\n",
       "    </tr>\n",
       "  </thead>\n",
       "  <tbody>\n",
       "    <tr>\n",
       "      <th>0</th>\n",
       "      <td>gangesh.c_07</td>\n",
       "      <td>:)\\ndldavsb'24\\nDTU MCE'28 🎓</td>\n",
       "      <td>278.0</td>\n",
       "      <td>361.0</td>\n",
       "      <td>0.0</td>\n",
       "      <td>0.0</td>\n",
       "      <td>0.0</td>\n",
       "      <td>0.0</td>\n",
       "      <td>None</td>\n",
       "      <td>True</td>\n",
       "      <td>False</td>\n",
       "      <td>0.0</td>\n",
       "      <td>[]</td>\n",
       "      <td>[]</td>\n",
       "      <td>0.0</td>\n",
       "      <td>[]</td>\n",
       "      <td>12</td>\n",
       "      <td>2</td>\n",
       "    </tr>\n",
       "    <tr>\n",
       "      <th>1</th>\n",
       "      <td>rahul._.gg</td>\n",
       "      <td>🇮🇳🇸🇦\\n🥀</td>\n",
       "      <td>491.0</td>\n",
       "      <td>553.0</td>\n",
       "      <td>0.0</td>\n",
       "      <td>0.0</td>\n",
       "      <td>0.0</td>\n",
       "      <td>0.0</td>\n",
       "      <td>None</td>\n",
       "      <td>True</td>\n",
       "      <td>False</td>\n",
       "      <td>0.0</td>\n",
       "      <td>[]</td>\n",
       "      <td>[]</td>\n",
       "      <td>0.0</td>\n",
       "      <td>[]</td>\n",
       "      <td>10</td>\n",
       "      <td>0</td>\n",
       "    </tr>\n",
       "    <tr>\n",
       "      <th>2</th>\n",
       "      <td>apparentlydaksh</td>\n",
       "      <td>DTU’28</td>\n",
       "      <td>154.0</td>\n",
       "      <td>151.0</td>\n",
       "      <td>0.0</td>\n",
       "      <td>0.0</td>\n",
       "      <td>0.0</td>\n",
       "      <td>0.0</td>\n",
       "      <td>None</td>\n",
       "      <td>True</td>\n",
       "      <td>False</td>\n",
       "      <td>0.0</td>\n",
       "      <td>[]</td>\n",
       "      <td>[]</td>\n",
       "      <td>0.0</td>\n",
       "      <td>[]</td>\n",
       "      <td>15</td>\n",
       "      <td>0</td>\n",
       "    </tr>\n",
       "    <tr>\n",
       "      <th>3</th>\n",
       "      <td>rishabhraj1024</td>\n",
       "      <td>An introvert\\nDTU{DCE} '28\\nSoftware Engineering</td>\n",
       "      <td>116.0</td>\n",
       "      <td>151.0</td>\n",
       "      <td>0.0</td>\n",
       "      <td>0.0</td>\n",
       "      <td>0.0</td>\n",
       "      <td>0.0</td>\n",
       "      <td>None</td>\n",
       "      <td>True</td>\n",
       "      <td>False</td>\n",
       "      <td>0.0</td>\n",
       "      <td>[]</td>\n",
       "      <td>[]</td>\n",
       "      <td>0.0</td>\n",
       "      <td>[]</td>\n",
       "      <td>14</td>\n",
       "      <td>4</td>\n",
       "    </tr>\n",
       "    <tr>\n",
       "      <th>4</th>\n",
       "      <td>ashish.kr_04</td>\n",
       "      <td>DTU (DCE)''28</td>\n",
       "      <td>156.0</td>\n",
       "      <td>185.0</td>\n",
       "      <td>0.0</td>\n",
       "      <td>0.0</td>\n",
       "      <td>0.0</td>\n",
       "      <td>0.0</td>\n",
       "      <td>None</td>\n",
       "      <td>True</td>\n",
       "      <td>False</td>\n",
       "      <td>0.0</td>\n",
       "      <td>[]</td>\n",
       "      <td>[]</td>\n",
       "      <td>0.0</td>\n",
       "      <td>[]</td>\n",
       "      <td>12</td>\n",
       "      <td>2</td>\n",
       "    </tr>\n",
       "  </tbody>\n",
       "</table>\n",
       "</div>"
      ],
      "text/plain": [
       "          username                                         biography  \\\n",
       "0     gangesh.c_07                      :)\\ndldavsb'24\\nDTU MCE'28 🎓   \n",
       "1       rahul._.gg                                           🇮🇳🇸🇦\\n🥀   \n",
       "2  apparentlydaksh                                            DTU’28   \n",
       "3   rishabhraj1024  An introvert\\nDTU{DCE} '28\\nSoftware Engineering   \n",
       "4     ashish.kr_04                                     DTU (DCE)''28   \n",
       "\n",
       "   followersCount  followsCount  hasChannel  highlightReelCount  \\\n",
       "0           278.0         361.0         0.0                 0.0   \n",
       "1           491.0         553.0         0.0                 0.0   \n",
       "2           154.0         151.0         0.0                 0.0   \n",
       "3           116.0         151.0         0.0                 0.0   \n",
       "4           156.0         185.0         0.0                 0.0   \n",
       "\n",
       "   isBusinessAccount  joinedRecently businessCategoryName  private  verified  \\\n",
       "0                0.0             0.0                 None     True     False   \n",
       "1                0.0             0.0                 None     True     False   \n",
       "2                0.0             0.0                 None     True     False   \n",
       "3                0.0             0.0                 None     True     False   \n",
       "4                0.0             0.0                 None     True     False   \n",
       "\n",
       "   igtvVideoCount relatedProfiles latestIgtvVideos  postsCount latestPosts  \\\n",
       "0             0.0              []               []         0.0          []   \n",
       "1             0.0              []               []         0.0          []   \n",
       "2             0.0              []               []         0.0          []   \n",
       "3             0.0              []               []         0.0          []   \n",
       "4             0.0              []               []         0.0          []   \n",
       "\n",
       "   username_len  username_num_count  \n",
       "0            12                   2  \n",
       "1            10                   0  \n",
       "2            15                   0  \n",
       "3            14                   4  \n",
       "4            12                   2  "
      ]
     },
     "execution_count": 1124,
     "metadata": {},
     "output_type": "execute_result"
    }
   ],
   "source": [
    "df1.head()"
   ]
  },
  {
   "cell_type": "code",
   "execution_count": 1125,
   "id": "dd9bc3d4-582d-40ba-8525-6daf573a8245",
   "metadata": {},
   "outputs": [],
   "source": [
    "df1[\"username_ratio\"] = df1[\"username_num_count\"] / df1[\"username_len\"]\n",
    "df2[\"username_ratio\"] = df2[\"username_num_count\"] / df2[\"username_len\"]\n",
    "df3[\"username_ratio\"] = df3[\"username_num_count\"] / df3[\"username_len\"]"
   ]
  },
  {
   "cell_type": "code",
   "execution_count": 1126,
   "id": "7938db5e-96fb-4c28-b219-d0cb6ff5865a",
   "metadata": {},
   "outputs": [
    {
     "data": {
      "text/plain": [
       "Index(['username', 'biography', 'followersCount', 'followsCount', 'hasChannel',\n",
       "       'highlightReelCount', 'isBusinessAccount', 'joinedRecently',\n",
       "       'businessCategoryName', 'private', 'verified', 'igtvVideoCount',\n",
       "       'relatedProfiles', 'latestIgtvVideos', 'postsCount', 'latestPosts',\n",
       "       'username_len', 'username_num_count', 'username_ratio'],\n",
       "      dtype='object')"
      ]
     },
     "execution_count": 1126,
     "metadata": {},
     "output_type": "execute_result"
    }
   ],
   "source": [
    "df1.columns"
   ]
  },
  {
   "cell_type": "code",
   "execution_count": 1127,
   "id": "e69b836d-8620-4aef-a1fb-77f2d70a5b7b",
   "metadata": {},
   "outputs": [
    {
     "data": {
      "text/plain": [
       "Index(['username', 'biography', 'followersCount', 'followsCount', 'hasChannel',\n",
       "       'highlightReelCount', 'isBusinessAccount', 'joinedRecently',\n",
       "       'businessCategoryName', 'private', 'verified', 'igtvVideoCount',\n",
       "       'relatedProfiles', 'latestIgtvVideos', 'postsCount', 'latestPosts',\n",
       "       'username_len', 'username_num_count', 'username_ratio'],\n",
       "      dtype='object')"
      ]
     },
     "execution_count": 1127,
     "metadata": {},
     "output_type": "execute_result"
    }
   ],
   "source": [
    "df2.columns"
   ]
  },
  {
   "cell_type": "code",
   "execution_count": 1128,
   "id": "3e1fa5bb-6711-402a-a664-1a652d4fd9bd",
   "metadata": {},
   "outputs": [
    {
     "data": {
      "text/plain": [
       "Index(['user_biography', 'user_followers', 'user_following', 'user_is_private',\n",
       "       'user_is_verified', 'user_username', 'user_media_count',\n",
       "       'latest_media_comments', 'latest_media_likes', 'username_len',\n",
       "       'username_num_count', 'username_ratio'],\n",
       "      dtype='object')"
      ]
     },
     "execution_count": 1128,
     "metadata": {},
     "output_type": "execute_result"
    }
   ],
   "source": [
    "df3.columns"
   ]
  },
  {
   "cell_type": "code",
   "execution_count": 1129,
   "id": "8d8a5732-737f-4e54-94c8-a67f5a71303e",
   "metadata": {},
   "outputs": [],
   "source": [
    "df1.drop(\"joinedRecently\", axis=\"columns\", inplace=True)\n",
    "df2.drop(\"joinedRecently\", axis=\"columns\", inplace=True)\n"
   ]
  },
  {
   "cell_type": "code",
   "execution_count": 1130,
   "id": "b56a92f8-fb61-4cc2-b7ea-825729668a0e",
   "metadata": {},
   "outputs": [
    {
     "data": {
      "text/plain": [
       "Index(['username', 'biography', 'followersCount', 'followsCount', 'hasChannel',\n",
       "       'highlightReelCount', 'isBusinessAccount', 'businessCategoryName',\n",
       "       'private', 'verified', 'igtvVideoCount', 'relatedProfiles',\n",
       "       'latestIgtvVideos', 'postsCount', 'latestPosts', 'username_len',\n",
       "       'username_num_count', 'username_ratio'],\n",
       "      dtype='object')"
      ]
     },
     "execution_count": 1130,
     "metadata": {},
     "output_type": "execute_result"
    }
   ],
   "source": [
    "df1.columns"
   ]
  },
  {
   "cell_type": "code",
   "execution_count": 1131,
   "id": "39c19d60-68b0-4889-b659-49eb70768ad8",
   "metadata": {},
   "outputs": [
    {
     "data": {
      "text/plain": [
       "Index(['username', 'biography', 'followersCount', 'followsCount', 'hasChannel',\n",
       "       'highlightReelCount', 'isBusinessAccount', 'businessCategoryName',\n",
       "       'private', 'verified', 'igtvVideoCount', 'relatedProfiles',\n",
       "       'latestIgtvVideos', 'postsCount', 'latestPosts', 'username_len',\n",
       "       'username_num_count', 'username_ratio'],\n",
       "      dtype='object')"
      ]
     },
     "execution_count": 1131,
     "metadata": {},
     "output_type": "execute_result"
    }
   ],
   "source": [
    "df2.columns"
   ]
  },
  {
   "cell_type": "code",
   "execution_count": 1132,
   "id": "1764a95b-ee7b-4e3b-8812-1a874949f0ab",
   "metadata": {},
   "outputs": [],
   "source": [
    "df1.drop(\"hasChannel\", axis=\"columns\", inplace=True)\n",
    "df2.drop(\"hasChannel\", axis=\"columns\", inplace=True)"
   ]
  },
  {
   "cell_type": "code",
   "execution_count": 1133,
   "id": "8ee44bfb-e3a6-4442-8f01-c2bc7ede8874",
   "metadata": {},
   "outputs": [
    {
     "data": {
      "text/plain": [
       "Index(['username', 'biography', 'followersCount', 'followsCount',\n",
       "       'highlightReelCount', 'isBusinessAccount', 'businessCategoryName',\n",
       "       'private', 'verified', 'igtvVideoCount', 'relatedProfiles',\n",
       "       'latestIgtvVideos', 'postsCount', 'latestPosts', 'username_len',\n",
       "       'username_num_count', 'username_ratio'],\n",
       "      dtype='object')"
      ]
     },
     "execution_count": 1133,
     "metadata": {},
     "output_type": "execute_result"
    }
   ],
   "source": [
    "df1.columns"
   ]
  },
  {
   "cell_type": "code",
   "execution_count": 1134,
   "id": "4129c6f5-7356-42e9-b383-e1526c994cd2",
   "metadata": {},
   "outputs": [],
   "source": [
    "df1.drop([\"businessCategoryName\", \"igtvVideoCount\", \"relatedProfiles\", \"latestIgtvVideos\"], axis=\"columns\", inplace=True)\n",
    "df2.drop([\"businessCategoryName\", \"igtvVideoCount\", \"relatedProfiles\", \"latestIgtvVideos\"], axis=\"columns\", inplace=True)"
   ]
  },
  {
   "cell_type": "code",
   "execution_count": 1135,
   "id": "bf1174f5-6172-41c8-8372-c817111ec43d",
   "metadata": {},
   "outputs": [
    {
     "data": {
      "text/plain": [
       "Index(['username', 'biography', 'followersCount', 'followsCount',\n",
       "       'highlightReelCount', 'isBusinessAccount', 'private', 'verified',\n",
       "       'postsCount', 'latestPosts', 'username_len', 'username_num_count',\n",
       "       'username_ratio'],\n",
       "      dtype='object')"
      ]
     },
     "execution_count": 1135,
     "metadata": {},
     "output_type": "execute_result"
    }
   ],
   "source": [
    "df1.columns"
   ]
  },
  {
   "cell_type": "code",
   "execution_count": 1136,
   "id": "79ee6333-b050-427e-8dc7-35de483e8f99",
   "metadata": {},
   "outputs": [
    {
     "data": {
      "text/plain": [
       "Index(['username', 'biography', 'followersCount', 'followsCount',\n",
       "       'highlightReelCount', 'isBusinessAccount', 'private', 'verified',\n",
       "       'postsCount', 'latestPosts', 'username_len', 'username_num_count',\n",
       "       'username_ratio'],\n",
       "      dtype='object')"
      ]
     },
     "execution_count": 1136,
     "metadata": {},
     "output_type": "execute_result"
    }
   ],
   "source": [
    "df2.columns"
   ]
  },
  {
   "cell_type": "code",
   "execution_count": 1137,
   "id": "945be0b6-833d-4e37-af9c-dab1a2e33f1f",
   "metadata": {},
   "outputs": [
    {
     "data": {
      "text/plain": [
       "Index(['user_biography', 'user_followers', 'user_following', 'user_is_private',\n",
       "       'user_is_verified', 'user_username', 'user_media_count',\n",
       "       'latest_media_comments', 'latest_media_likes', 'username_len',\n",
       "       'username_num_count', 'username_ratio'],\n",
       "      dtype='object')"
      ]
     },
     "execution_count": 1137,
     "metadata": {},
     "output_type": "execute_result"
    }
   ],
   "source": [
    "df3.columns"
   ]
  },
  {
   "cell_type": "code",
   "execution_count": 1138,
   "id": "629982bc-1ded-4f1c-98a8-cd46243e40ea",
   "metadata": {},
   "outputs": [],
   "source": [
    "df1[\"biography_len\"] = df1[\"biography\"].apply(len)\n",
    "df2[\"biography_len\"] = df2[\"biography\"].apply(len)\n",
    "df3[\"user_biography\"] = df3[\"user_biography\"].replace(np.NaN, \"\")\n",
    "df3[\"biography_len\"] = df3[\"user_biography\"].apply(len)\n",
    "\n",
    "df1.drop(\"biography\", axis=\"columns\", inplace=True)\n",
    "df2.drop(\"biography\", axis=\"columns\", inplace=True)\n",
    "df3.drop(\"user_biography\", axis=\"columns\", inplace=True)\n"
   ]
  },
  {
   "cell_type": "code",
   "execution_count": 1139,
   "id": "fa825c25-868c-46ac-978b-7a75cbba9d6d",
   "metadata": {},
   "outputs": [],
   "source": [
    "df1['isBio'] = df1['biography_len'].apply(lambda x: 1 if x > 0 else 0)\n",
    "df2['isBio'] = df1['biography_len'].apply(lambda x: 1 if x > 0 else 0)\n",
    "df3['isBio'] = df1['biography_len'].apply(lambda x: 1 if x > 0 else 0)"
   ]
  },
  {
   "cell_type": "code",
   "execution_count": 1140,
   "id": "a8eefcb4-b748-472d-aa7b-0d99c724f4ec",
   "metadata": {},
   "outputs": [],
   "source": [
    "df1.drop(\"username\", axis=\"columns\", inplace=True)\n",
    "df2.drop(\"username\", axis=\"columns\", inplace=True)\n",
    "df3.drop(\"user_username\", axis=\"columns\", inplace=True)"
   ]
  },
  {
   "cell_type": "code",
   "execution_count": 1141,
   "id": "a73522d9",
   "metadata": {},
   "outputs": [],
   "source": [
    "df1.drop(\"highlightReelCount\", axis=\"columns\", inplace=True)\n",
    "df2.drop(\"highlightReelCount\", axis=\"columns\", inplace=True)\n"
   ]
  },
  {
   "cell_type": "code",
   "execution_count": 1142,
   "id": "72422ca9",
   "metadata": {},
   "outputs": [
    {
     "data": {
      "text/plain": [
       "Index(['followersCount', 'followsCount', 'isBusinessAccount', 'private',\n",
       "       'verified', 'postsCount', 'latestPosts', 'username_len',\n",
       "       'username_num_count', 'username_ratio', 'biography_len', 'isBio'],\n",
       "      dtype='object')"
      ]
     },
     "execution_count": 1142,
     "metadata": {},
     "output_type": "execute_result"
    }
   ],
   "source": [
    "df1.columns"
   ]
  },
  {
   "cell_type": "code",
   "execution_count": 1143,
   "id": "f9b1055b",
   "metadata": {},
   "outputs": [
    {
     "data": {
      "text/plain": [
       "Index(['user_followers', 'user_following', 'user_is_private',\n",
       "       'user_is_verified', 'user_media_count', 'latest_media_comments',\n",
       "       'latest_media_likes', 'username_len', 'username_num_count',\n",
       "       'username_ratio', 'biography_len', 'isBio'],\n",
       "      dtype='object')"
      ]
     },
     "execution_count": 1143,
     "metadata": {},
     "output_type": "execute_result"
    }
   ],
   "source": [
    "df3.columns"
   ]
  },
  {
   "cell_type": "code",
   "execution_count": 1144,
   "id": "b007a26e",
   "metadata": {},
   "outputs": [],
   "source": [
    "df3 = df3.rename(columns={'user_followers': 'followersCount', 'user_following': 'followingCount', 'user_is_private': 'isPrivate', 'user_is_verified': 'isVerified', 'user_media_count': 'postsCount'})\n",
    "df1 = df1.rename(columns={'private': 'isPrivate', 'verified': 'isVerified'})\n",
    "df2 = df2.rename(columns={'private': 'isPrivate', 'verified': 'isVerified'})"
   ]
  },
  {
   "cell_type": "code",
   "execution_count": 1145,
   "id": "576235a7",
   "metadata": {},
   "outputs": [
    {
     "data": {
      "text/plain": [
       "Index(['followersCount', 'followsCount', 'isBusinessAccount', 'isPrivate',\n",
       "       'isVerified', 'postsCount', 'latestPosts', 'username_len',\n",
       "       'username_num_count', 'username_ratio', 'biography_len', 'isBio'],\n",
       "      dtype='object')"
      ]
     },
     "execution_count": 1145,
     "metadata": {},
     "output_type": "execute_result"
    }
   ],
   "source": [
    "df1.columns"
   ]
  },
  {
   "cell_type": "code",
   "execution_count": 1146,
   "id": "478df459",
   "metadata": {},
   "outputs": [
    {
     "data": {
      "text/plain": [
       "Index(['followersCount', 'followsCount', 'isBusinessAccount', 'isPrivate',\n",
       "       'isVerified', 'postsCount', 'latestPosts', 'username_len',\n",
       "       'username_num_count', 'username_ratio', 'biography_len', 'isBio'],\n",
       "      dtype='object')"
      ]
     },
     "execution_count": 1146,
     "metadata": {},
     "output_type": "execute_result"
    }
   ],
   "source": [
    "df2.columns"
   ]
  },
  {
   "cell_type": "code",
   "execution_count": 1147,
   "id": "c94148f4",
   "metadata": {},
   "outputs": [
    {
     "data": {
      "text/plain": [
       "Index(['followersCount', 'followingCount', 'isPrivate', 'isVerified',\n",
       "       'postsCount', 'latest_media_comments', 'latest_media_likes',\n",
       "       'username_len', 'username_num_count', 'username_ratio', 'biography_len',\n",
       "       'isBio'],\n",
       "      dtype='object')"
      ]
     },
     "execution_count": 1147,
     "metadata": {},
     "output_type": "execute_result"
    }
   ],
   "source": [
    "df3.columns"
   ]
  },
  {
   "cell_type": "code",
   "execution_count": 1148,
   "id": "b3d87808",
   "metadata": {},
   "outputs": [
    {
     "data": {
      "text/plain": [
       "Index(['followersCount', 'followsCount', 'isBusinessAccount', 'isPrivate',\n",
       "       'isVerified', 'postsCount', 'latestPosts', 'username_len',\n",
       "       'username_num_count', 'username_ratio', 'biography_len', 'isBio'],\n",
       "      dtype='object')"
      ]
     },
     "execution_count": 1148,
     "metadata": {},
     "output_type": "execute_result"
    }
   ],
   "source": [
    "df_clean = pd.concat([df1, df2])\n",
    "df_clean.columns"
   ]
  },
  {
   "cell_type": "code",
   "execution_count": 1149,
   "id": "da479de6",
   "metadata": {},
   "outputs": [],
   "source": [
    "df_clean.drop(\"isBusinessAccount\", axis=\"columns\", inplace=True)"
   ]
  },
  {
   "cell_type": "code",
   "execution_count": 1150,
   "id": "391ebab0",
   "metadata": {},
   "outputs": [
    {
     "data": {
      "text/plain": [
       "Index(['followersCount', 'followsCount', 'isPrivate', 'isVerified',\n",
       "       'postsCount', 'latestPosts', 'username_len', 'username_num_count',\n",
       "       'username_ratio', 'biography_len', 'isBio'],\n",
       "      dtype='object')"
      ]
     },
     "execution_count": 1150,
     "metadata": {},
     "output_type": "execute_result"
    }
   ],
   "source": [
    "df_clean.columns"
   ]
  },
  {
   "cell_type": "code",
   "execution_count": 1151,
   "id": "16f3e150",
   "metadata": {},
   "outputs": [
    {
     "data": {
      "text/plain": [
       "Index(['followersCount', 'followingCount', 'isPrivate', 'isVerified',\n",
       "       'postsCount', 'latest_media_comments', 'latest_media_likes',\n",
       "       'username_len', 'username_num_count', 'username_ratio', 'biography_len',\n",
       "       'isBio'],\n",
       "      dtype='object')"
      ]
     },
     "execution_count": 1151,
     "metadata": {},
     "output_type": "execute_result"
    }
   ],
   "source": [
    "df3.columns"
   ]
  },
  {
   "cell_type": "code",
   "execution_count": 1152,
   "id": "3864d03e",
   "metadata": {},
   "outputs": [],
   "source": [
    "df_public = df_clean[df_clean['isPrivate'] == False].reset_index(drop=True)\n",
    "df_private = df_clean[df_clean['isPrivate'] == True].reset_index(drop=True)"
   ]
  },
  {
   "cell_type": "code",
   "execution_count": 1153,
   "id": "fbca462c",
   "metadata": {},
   "outputs": [],
   "source": [
    "df_private.drop([\"latestPosts\", \"biography_len\"], axis=\"columns\", inplace=True)"
   ]
  },
  {
   "cell_type": "code",
   "execution_count": 1154,
   "id": "b211b0c8",
   "metadata": {},
   "outputs": [
    {
     "data": {
      "text/plain": [
       "Index(['followersCount', 'followsCount', 'isPrivate', 'isVerified',\n",
       "       'postsCount', 'username_len', 'username_num_count', 'username_ratio',\n",
       "       'isBio'],\n",
       "      dtype='object')"
      ]
     },
     "execution_count": 1154,
     "metadata": {},
     "output_type": "execute_result"
    }
   ],
   "source": [
    "df_private.columns"
   ]
  },
  {
   "cell_type": "code",
   "execution_count": 1155,
   "id": "351af469",
   "metadata": {},
   "outputs": [],
   "source": [
    "df_fake_public = df3[df3['isPrivate'] == False].reset_index(drop=True)\n",
    "df_fake_private = df3[df3['isPrivate'] == True].reset_index(drop=True)"
   ]
  },
  {
   "cell_type": "code",
   "execution_count": 1156,
   "id": "0f7aafd0",
   "metadata": {},
   "outputs": [],
   "source": [
    "df_fake_private.drop([\"latest_media_comments\", \"latest_media_likes\", \"biography_len\"], axis=\"columns\", inplace=True)"
   ]
  },
  {
   "cell_type": "code",
   "execution_count": 1157,
   "id": "07b9ae90",
   "metadata": {},
   "outputs": [],
   "source": [
    "df_fake_private[\"label\"] = 1\n",
    "df_private[\"label\"] = 0\n",
    "\n",
    "df_private_joint = pd.concat([df_private, df_fake_private])\n",
    "df_private_joint.to_json('private_joint.json', orient='records')"
   ]
  },
  {
   "cell_type": "code",
   "execution_count": 1158,
   "id": "fa9eede3",
   "metadata": {},
   "outputs": [
    {
     "data": {
      "text/plain": [
       "label\n",
       "0    794\n",
       "1    103\n",
       "Name: count, dtype: int64"
      ]
     },
     "execution_count": 1158,
     "metadata": {},
     "output_type": "execute_result"
    }
   ],
   "source": [
    "df_private_joint[\"label\"].value_counts()"
   ]
  }
 ],
 "metadata": {
  "kernelspec": {
   "display_name": "Python 3",
   "language": "python",
   "name": "python3"
  },
  "language_info": {
   "codemirror_mode": {
    "name": "ipython",
    "version": 3
   },
   "file_extension": ".py",
   "mimetype": "text/x-python",
   "name": "python",
   "nbconvert_exporter": "python",
   "pygments_lexer": "ipython3",
   "version": "3.10.12"
  }
 },
 "nbformat": 4,
 "nbformat_minor": 5
}
