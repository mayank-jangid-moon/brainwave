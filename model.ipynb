{
 "cells": [
  {
   "cell_type": "code",
   "execution_count": 1,
   "metadata": {},
   "outputs": [],
   "source": [
    "import pandas as pd\n",
    "import numpy as np"
   ]
  },
  {
   "cell_type": "code",
   "execution_count": 2,
   "metadata": {},
   "outputs": [
    {
     "data": {
      "text/plain": [
       "<bound method NDFrame.head of      userFollowerCount  userFollowingCount  userBiographyLength  \\\n",
       "0                  258                 238                    0   \n",
       "1                  263                 482                   30   \n",
       "2                   51                  78                    9   \n",
       "3                  297                 480                   22   \n",
       "4                  113                 242                    0   \n",
       "..                 ...                 ...                  ...   \n",
       "989                239                1134                  145   \n",
       "990                 91                 149                    0   \n",
       "991                 78                 783                   28   \n",
       "992                135                 517                   44   \n",
       "993                203                 823                   71   \n",
       "\n",
       "     userMediaCount  userHasProfilPic  userIsPrivate  usernameDigitCount  \\\n",
       "0                 0                 1              0                   0   \n",
       "1                29                 1              1                   0   \n",
       "2                 0                 1              1                   0   \n",
       "3                25                 1              1                   2   \n",
       "4                95                 1              1                   0   \n",
       "..              ...               ...            ...                 ...   \n",
       "989               9                 1              0                   0   \n",
       "990               7                 1              0                   0   \n",
       "991               1                 1              0                   0   \n",
       "992               4                 1              0                   4   \n",
       "993               4                 1              0                   0   \n",
       "\n",
       "     usernameLength  isFake  \n",
       "0                10       0  \n",
       "1                 8       0  \n",
       "2                10       0  \n",
       "3                 9       0  \n",
       "4                10       0  \n",
       "..              ...     ...  \n",
       "989              19       0  \n",
       "990              18       0  \n",
       "991              11       0  \n",
       "992              11       0  \n",
       "993              12       0  \n",
       "\n",
       "[994 rows x 9 columns]>"
      ]
     },
     "execution_count": 2,
     "metadata": {},
     "output_type": "execute_result"
    }
   ],
   "source": [
    "data = pd.read_json(\"datasets/db/0.json\")\n",
    "data.head"
   ]
  },
  {
   "cell_type": "code",
   "execution_count": null,
   "metadata": {},
   "outputs": [],
   "source": []
  }
 ],
 "metadata": {
  "kernelspec": {
   "display_name": "Python 3",
   "language": "python",
   "name": "python3"
  },
  "language_info": {
   "codemirror_mode": {
    "name": "ipython",
    "version": 3
   },
   "file_extension": ".py",
   "mimetype": "text/x-python",
   "name": "python",
   "nbconvert_exporter": "python",
   "pygments_lexer": "ipython3",
   "version": "3.10.12"
  }
 },
 "nbformat": 4,
 "nbformat_minor": 2
}
