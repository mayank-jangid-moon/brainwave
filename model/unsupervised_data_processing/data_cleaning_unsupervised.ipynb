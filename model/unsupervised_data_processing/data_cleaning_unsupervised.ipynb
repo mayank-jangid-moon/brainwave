{
 "cells": [
  {
   "cell_type": "code",
   "execution_count": 11,
   "metadata": {},
   "outputs": [],
   "source": [
    "import pandas as pd\n",
    "import numpy as np"
   ]
  },
  {
   "cell_type": "code",
   "execution_count": 12,
   "metadata": {},
   "outputs": [],
   "source": [
    "df1 = pd.read_json(\"datasets/scrapped/unlabelled/unlabelled1.json\")\n",
    "df2 = pd.read_json(\"datasets/scrapped/unlabelled/unlabelled2.json\")\n",
    "df3 = pd.read_json(\"datasets/scrapped/unlabelled/unlabelled3.json\")\n",
    "df4 = pd.read_json(\"datasets/scrapped/unlabelled/unlabelled4.json\")\n",
    "df5 = pd.read_json(\"datasets/scrapped/unlabelled/unlabelled5.json\")\n",
    "df6 = pd.read_json(\"datasets/scrapped/unlabelled/unlabelled6.json\")"
   ]
  },
  {
   "cell_type": "code",
   "execution_count": 13,
   "metadata": {},
   "outputs": [],
   "source": [
    "df_cat = pd.concat([df1, df2, df3, df4, df5, df6], ignore_index=True)"
   ]
  },
  {
   "cell_type": "code",
   "execution_count": 14,
   "metadata": {},
   "outputs": [],
   "source": [
    "df_public = df3[df3['private'] == False].reset_index(drop=True)\n",
    "df_private = df3[df3['private'] == True].reset_index(drop=True)"
   ]
  },
  {
   "cell_type": "code",
   "execution_count": 15,
   "metadata": {},
   "outputs": [],
   "source": [
    "df_public.to_json('public_unsupervised.json', orient='records')\n",
    "df_private.to_json('private_unsupervised.json', orient='records')"
   ]
  }
 ],
 "metadata": {
  "kernelspec": {
   "display_name": "Python 3",
   "language": "python",
   "name": "python3"
  },
  "language_info": {
   "codemirror_mode": {
    "name": "ipython",
    "version": 3
   },
   "file_extension": ".py",
   "mimetype": "text/x-python",
   "name": "python",
   "nbconvert_exporter": "python",
   "pygments_lexer": "ipython3",
   "version": "3.10.12"
  }
 },
 "nbformat": 4,
 "nbformat_minor": 2
}
