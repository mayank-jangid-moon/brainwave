{
 "cells": [
  {
   "cell_type": "code",
   "execution_count": 150,
   "metadata": {},
   "outputs": [],
   "source": [
    "import pandas as pd\n",
    "import numpy as np"
   ]
  },
  {
   "cell_type": "code",
   "execution_count": 151,
   "metadata": {},
   "outputs": [],
   "source": [
    "df1 = pd.read_json(\"../datasets/scrapped/unlabelled/unlabelled1.json\")\n",
    "df1[\"username_len\"] = df1[\"username\"].apply(len)"
   ]
  },
  {
   "cell_type": "code",
   "execution_count": 152,
   "metadata": {},
   "outputs": [],
   "source": [
    "def num_count(str):\n",
    "    count = 0\n",
    "    for i in str:\n",
    "        try:\n",
    "            x = int(i)\n",
    "        except:\n",
    "            pass\n",
    "        else:\n",
    "            count += 1\n",
    "    return count"
   ]
  },
  {
   "cell_type": "code",
   "execution_count": 153,
   "metadata": {},
   "outputs": [],
   "source": [
    "df1[\"username_num_count\"] = df1[\"username\"].apply(num_count)"
   ]
  },
  {
   "cell_type": "code",
   "execution_count": 154,
   "metadata": {},
   "outputs": [],
   "source": [
    "df1[\"username_ratio\"] = df1[\"username_num_count\"] / df1[\"username_len\"]"
   ]
  },
  {
   "cell_type": "code",
   "execution_count": 155,
   "metadata": {},
   "outputs": [],
   "source": [
    "df1[\"biography\"] = df1[\"biography\"].replace(np.NaN, \"\")\n",
    "df1[\"biography_len\"] = df1[\"biography\"].apply(len)"
   ]
  },
  {
   "cell_type": "code",
   "execution_count": 156,
   "metadata": {},
   "outputs": [],
   "source": [
    "df1['isBio'] = df1['biography_len'].apply(lambda x: 1 if x > 0 else 0)"
   ]
  },
  {
   "cell_type": "code",
   "execution_count": 157,
   "metadata": {},
   "outputs": [
    {
     "data": {
      "text/plain": [
       "Index(['inputUrl', 'id', 'username', 'url', 'fullName', 'biography',\n",
       "       'followersCount', 'followingCount', 'hasChannel', 'highlightReelCount',\n",
       "       'isBusinessAccount', 'joinedRecently', 'businessCategoryName',\n",
       "       'isPrivate', 'isVerified', 'profilePicUrl', 'profilePicUrlHD',\n",
       "       'igtvVideoCount', 'relatedProfiles', 'latestIgtvVideos', 'postsCount',\n",
       "       'latestPosts', 'externalUrl', 'externalUrlShimmed', 'error',\n",
       "       'isRestrictedProfile', 'restrictionReason', 'errorDescription',\n",
       "       'username_len', 'username_num_count', 'username_ratio', 'biography_len',\n",
       "       'isBio'],\n",
       "      dtype='object')"
      ]
     },
     "execution_count": 157,
     "metadata": {},
     "output_type": "execute_result"
    }
   ],
   "source": [
    "df1 = df1.rename(columns={'followsCount': 'followingCount', 'private': 'isPrivate', 'verified': 'isVerified'})\n",
    "df1.columns"
   ]
  },
  {
   "cell_type": "code",
   "execution_count": 158,
   "metadata": {},
   "outputs": [],
   "source": [
    "df1['latestPosts'] = df1['latestPosts'].apply(lambda x: [] if isinstance(x, float) and np.isnan(x) else x)\n",
    "df1[\"latest_media_comments\"] = df1[\"latestPosts\"].apply(lambda x: x[0][\"commentsCount\"] if x != [] else 0)\n",
    "df1[\"latest_media_likes\"] = df1[\"latestPosts\"].apply(lambda x: x[0][\"likesCount\"] if x != [] else 0)\n",
    "df1[\"isLatestPost\"] = np.ones(df1.shape[0])"
   ]
  },
  {
   "cell_type": "code",
   "execution_count": 159,
   "metadata": {},
   "outputs": [],
   "source": [
    "for i, j in zip(df1[\"latestPosts\"], range(df1.shape[0])):\n",
    "    if i == []:\n",
    "        df1.loc[j, \"isLatestPost\"] = 0"
   ]
  },
  {
   "cell_type": "code",
   "execution_count": 160,
   "metadata": {},
   "outputs": [],
   "source": [
    "df1[\"isLatestPost\"] = np.ones(df1.shape[0])\n",
    "\n",
    "for i, j in zip(df1[\"latest_media_comments\"], range(df1.shape[0])):\n",
    "    if pd.isna(i):  # Use pd.isna() to check for NaN values\n",
    "        df1.loc[j, \"latest_media_comments\"] = 0\n",
    "        df1.loc[j, \"latest_media_likes\"] = 0\n",
    "        df1.loc[j, \"isLatestPost\"] = 0"
   ]
  },
  {
   "cell_type": "code",
   "execution_count": 162,
   "metadata": {},
   "outputs": [
    {
     "data": {
      "text/plain": [
       "Index(['followersCount', 'followingCount', 'isPrivate', 'isVerified',\n",
       "       'postsCount', 'username_len', 'username_num_count', 'username_ratio',\n",
       "       'isBio', 'latest_media_comments', 'latest_media_likes', 'isLatestPost'],\n",
       "      dtype='object')"
      ]
     },
     "execution_count": 162,
     "metadata": {},
     "output_type": "execute_result"
    }
   ],
   "source": [
    "columns_use = [\"followersCount\",\"followingCount\",\"isPrivate\",\"isVerified\",\"postsCount\",\"username_len\",\"username_num_count\",\"username_ratio\",\"isBio\", \"latest_media_comments\", \"latest_media_likes\", \"isLatestPost\"]\n",
    "df1 = df1[columns_use]\n",
    "df1 = df1.replace(np.NaN, 0)"
   ]
  }
 ],
 "metadata": {
  "kernelspec": {
   "display_name": "Python 3",
   "language": "python",
   "name": "python3"
  },
  "language_info": {
   "codemirror_mode": {
    "name": "ipython",
    "version": 3
   },
   "file_extension": ".py",
   "mimetype": "text/x-python",
   "name": "python",
   "nbconvert_exporter": "python",
   "pygments_lexer": "ipython3",
   "version": "3.10.12"
  }
 },
 "nbformat": 4,
 "nbformat_minor": 2
}
