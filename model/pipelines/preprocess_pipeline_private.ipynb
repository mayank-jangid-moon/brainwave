{
 "cells": [
  {
   "cell_type": "code",
   "execution_count": 2,
   "metadata": {},
   "outputs": [],
   "source": [
    "import pandas as pd\n",
    "import numpy as np"
   ]
  },
  {
   "cell_type": "code",
   "execution_count": 3,
   "metadata": {},
   "outputs": [],
   "source": [
    "df1 = pd.read_json(\"../datasets/scrapped/unlabelled/unlabelled1.json\")\n",
    "df1[\"username_len\"] = df1[\"username\"].apply(len)"
   ]
  },
  {
   "cell_type": "code",
   "execution_count": 4,
   "metadata": {},
   "outputs": [],
   "source": [
    "def num_count(str):\n",
    "    count = 0\n",
    "    for i in str:\n",
    "        try:\n",
    "            x = int(i)\n",
    "        except:\n",
    "            pass\n",
    "        else:\n",
    "            count += 1\n",
    "    return count"
   ]
  },
  {
   "cell_type": "code",
   "execution_count": 5,
   "metadata": {},
   "outputs": [],
   "source": [
    "df1[\"username_num_count\"] = df1[\"username\"].apply(num_count)"
   ]
  },
  {
   "cell_type": "code",
   "execution_count": 6,
   "metadata": {},
   "outputs": [],
   "source": [
    "df1[\"username_ratio\"] = df1[\"username_num_count\"] / df1[\"username_len\"]"
   ]
  },
  {
   "cell_type": "code",
   "execution_count": 7,
   "metadata": {},
   "outputs": [],
   "source": [
    "df1[\"biography\"] = df1[\"biography\"].replace(np.NaN, \"\")\n",
    "df1[\"biography_len\"] = df1[\"biography\"].apply(len)"
   ]
  },
  {
   "cell_type": "code",
   "execution_count": 8,
   "metadata": {},
   "outputs": [],
   "source": [
    "df1['isBio'] = df1['biography_len'].apply(lambda x: 1 if x > 0 else 0)"
   ]
  },
  {
   "cell_type": "code",
   "execution_count": 9,
   "metadata": {},
   "outputs": [
    {
     "data": {
      "text/plain": [
       "Index(['inputUrl', 'id', 'username', 'url', 'fullName', 'biography',\n",
       "       'followersCount', 'followingCount', 'hasChannel', 'highlightReelCount',\n",
       "       'isBusinessAccount', 'joinedRecently', 'businessCategoryName',\n",
       "       'isPrivate', 'isVerified', 'profilePicUrl', 'profilePicUrlHD',\n",
       "       'igtvVideoCount', 'relatedProfiles', 'latestIgtvVideos', 'postsCount',\n",
       "       'latestPosts', 'externalUrl', 'externalUrlShimmed', 'error',\n",
       "       'isRestrictedProfile', 'restrictionReason', 'errorDescription',\n",
       "       'username_len', 'username_num_count', 'username_ratio', 'biography_len',\n",
       "       'isBio'],\n",
       "      dtype='object')"
      ]
     },
     "execution_count": 9,
     "metadata": {},
     "output_type": "execute_result"
    }
   ],
   "source": [
    "df1 = df1.rename(columns={'followsCount': 'followingCount', 'private': 'isPrivate', 'verified': 'isVerified'})\n",
    "df1.columns"
   ]
  },
  {
   "cell_type": "code",
   "execution_count": 10,
   "metadata": {},
   "outputs": [],
   "source": [
    "columns_use = [\"followersCount\",\"followingCount\",\"isPrivate\",\"isVerified\",\"postsCount\",\"username_len\",\"username_num_count\",\"username_ratio\",\"isBio\"]\n",
    "df1 = df1[columns_use]"
   ]
  },
  {
   "cell_type": "code",
   "execution_count": 11,
   "metadata": {},
   "outputs": [
    {
     "data": {
      "text/plain": [
       "followersCount        0\n",
       "followingCount        0\n",
       "isPrivate             0\n",
       "isVerified            0\n",
       "postsCount            0\n",
       "username_len          0\n",
       "username_num_count    0\n",
       "username_ratio        0\n",
       "isBio                 0\n",
       "dtype: int64"
      ]
     },
     "execution_count": 11,
     "metadata": {},
     "output_type": "execute_result"
    }
   ],
   "source": [
    "df1 = df1.replace(np.NaN, 0)\n",
    "df1.isna().sum()"
   ]
  }
 ],
 "metadata": {
  "kernelspec": {
   "display_name": "Python 3",
   "language": "python",
   "name": "python3"
  },
  "language_info": {
   "codemirror_mode": {
    "name": "ipython",
    "version": 3
   },
   "file_extension": ".py",
   "mimetype": "text/x-python",
   "name": "python",
   "nbconvert_exporter": "python",
   "pygments_lexer": "ipython3",
   "version": "3.10.12"
  }
 },
 "nbformat": 4,
 "nbformat_minor": 2
}
