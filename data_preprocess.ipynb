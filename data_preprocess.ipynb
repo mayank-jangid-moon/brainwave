{
 "cells": [
  {
   "cell_type": "code",
   "execution_count": 36,
   "id": "721066ab-e31f-455d-829b-117671dad01b",
   "metadata": {},
   "outputs": [],
   "source": [
    "import pandas as pd\n",
    "import numpy as np\n",
    "import matplotlib.pyplot as plt"
   ]
  },
  {
   "cell_type": "code",
   "execution_count": 37,
   "id": "5722911a-13b3-46e8-a4a6-fbe30787da9f",
   "metadata": {},
   "outputs": [],
   "source": [
    "df1 = pd.read_json(\"scrapped/labelled/real/dataset_utkarsh.json\")\n",
    "df2 = pd.read_json(\"scrapped/labelled/real/dataset_tazerr.json\")\n",
    "df3 = pd.read_csv(\"scrapped/labelled/fake/compiled_output.csv\")"
   ]
  },
  {
   "cell_type": "code",
   "execution_count": 38,
   "id": "b04cc75e-6564-4551-a6c7-672658c53cca",
   "metadata": {},
   "outputs": [
    {
     "data": {
      "text/plain": [
       "Index(['inputUrl', 'id', 'username', 'url', 'fullName', 'biography',\n",
       "       'followersCount', 'followsCount', 'hasChannel', 'highlightReelCount',\n",
       "       'isBusinessAccount', 'joinedRecently', 'businessCategoryName',\n",
       "       'private', 'verified', 'profilePicUrl', 'profilePicUrlHD',\n",
       "       'igtvVideoCount', 'relatedProfiles', 'latestIgtvVideos', 'postsCount',\n",
       "       'latestPosts', 'externalUrl', 'externalUrlShimmed', 'error',\n",
       "       'isRestrictedProfile', 'restrictionReason'],\n",
       "      dtype='object')"
      ]
     },
     "execution_count": 38,
     "metadata": {},
     "output_type": "execute_result"
    }
   ],
   "source": [
    "df1.columns"
   ]
  },
  {
   "cell_type": "code",
   "execution_count": 39,
   "id": "741a9096-55cf-4f45-90ad-d2b8f8101d5a",
   "metadata": {},
   "outputs": [
    {
     "data": {
      "text/plain": [
       "Index(['inputUrl', 'id', 'username', 'url', 'fullName', 'biography',\n",
       "       'externalUrl', 'externalUrlShimmed', 'followersCount', 'followsCount',\n",
       "       'hasChannel', 'highlightReelCount', 'isBusinessAccount',\n",
       "       'joinedRecently', 'businessCategoryName', 'private', 'verified',\n",
       "       'profilePicUrl', 'profilePicUrlHD', 'igtvVideoCount', 'relatedProfiles',\n",
       "       'latestIgtvVideos', 'postsCount', 'latestPosts'],\n",
       "      dtype='object')"
      ]
     },
     "execution_count": 39,
     "metadata": {},
     "output_type": "execute_result"
    }
   ],
   "source": [
    "df2.columns"
   ]
  },
  {
   "cell_type": "code",
   "execution_count": 40,
   "id": "b70967c2-109d-40a1-a096-82d95a72be84",
   "metadata": {},
   "outputs": [
    {
     "data": {
      "text/plain": [
       "Index(['user_biography', 'user_followers', 'user_following', 'user_is_private',\n",
       "       'user_is_verified', 'user_username', 'user_media_count',\n",
       "       'latest_media_comments', 'latest_media_likes'],\n",
       "      dtype='object')"
      ]
     },
     "execution_count": 40,
     "metadata": {},
     "output_type": "execute_result"
    }
   ],
   "source": [
    "df3.columns"
   ]
  },
  {
   "cell_type": "code",
   "execution_count": 42,
   "id": "b285aaf7-642e-4318-8218-cf0825469191",
   "metadata": {},
   "outputs": [
    {
     "data": {
      "text/html": [
       "<div>\n",
       "<style scoped>\n",
       "    .dataframe tbody tr th:only-of-type {\n",
       "        vertical-align: middle;\n",
       "    }\n",
       "\n",
       "    .dataframe tbody tr th {\n",
       "        vertical-align: top;\n",
       "    }\n",
       "\n",
       "    .dataframe thead th {\n",
       "        text-align: right;\n",
       "    }\n",
       "</style>\n",
       "<table border=\"1\" class=\"dataframe\">\n",
       "  <thead>\n",
       "    <tr style=\"text-align: right;\">\n",
       "      <th></th>\n",
       "      <th>inputUrl</th>\n",
       "      <th>id</th>\n",
       "      <th>username</th>\n",
       "      <th>url</th>\n",
       "      <th>fullName</th>\n",
       "      <th>biography</th>\n",
       "      <th>followersCount</th>\n",
       "      <th>followsCount</th>\n",
       "      <th>hasChannel</th>\n",
       "      <th>highlightReelCount</th>\n",
       "      <th>...</th>\n",
       "      <th>igtvVideoCount</th>\n",
       "      <th>relatedProfiles</th>\n",
       "      <th>latestIgtvVideos</th>\n",
       "      <th>postsCount</th>\n",
       "      <th>latestPosts</th>\n",
       "      <th>externalUrl</th>\n",
       "      <th>externalUrlShimmed</th>\n",
       "      <th>error</th>\n",
       "      <th>isRestrictedProfile</th>\n",
       "      <th>restrictionReason</th>\n",
       "    </tr>\n",
       "  </thead>\n",
       "  <tbody>\n",
       "    <tr>\n",
       "      <th>0</th>\n",
       "      <td>https://www.instagram.com/gangesh.c_07</td>\n",
       "      <td>51578445672</td>\n",
       "      <td>gangesh.c_07</td>\n",
       "      <td>https://www.instagram.com/gangesh.c_07</td>\n",
       "      <td>Gangesh Chopra</td>\n",
       "      <td>:)\\ndldavsb'24\\nDTU MCE'28 🎓</td>\n",
       "      <td>278.0</td>\n",
       "      <td>361.0</td>\n",
       "      <td>0.0</td>\n",
       "      <td>0.0</td>\n",
       "      <td>...</td>\n",
       "      <td>0.0</td>\n",
       "      <td>[]</td>\n",
       "      <td>[]</td>\n",
       "      <td>0.0</td>\n",
       "      <td>[]</td>\n",
       "      <td>NaN</td>\n",
       "      <td>NaN</td>\n",
       "      <td>NaN</td>\n",
       "      <td>NaN</td>\n",
       "      <td>NaN</td>\n",
       "    </tr>\n",
       "    <tr>\n",
       "      <th>1</th>\n",
       "      <td>https://www.instagram.com/rahul._.gg</td>\n",
       "      <td>5700053758</td>\n",
       "      <td>rahul._.gg</td>\n",
       "      <td>https://www.instagram.com/rahul._.gg</td>\n",
       "      <td>Rahul</td>\n",
       "      <td>🇮🇳🇸🇦\\n🥀</td>\n",
       "      <td>491.0</td>\n",
       "      <td>553.0</td>\n",
       "      <td>0.0</td>\n",
       "      <td>0.0</td>\n",
       "      <td>...</td>\n",
       "      <td>0.0</td>\n",
       "      <td>[]</td>\n",
       "      <td>[]</td>\n",
       "      <td>0.0</td>\n",
       "      <td>[]</td>\n",
       "      <td>NaN</td>\n",
       "      <td>NaN</td>\n",
       "      <td>NaN</td>\n",
       "      <td>NaN</td>\n",
       "      <td>NaN</td>\n",
       "    </tr>\n",
       "    <tr>\n",
       "      <th>2</th>\n",
       "      <td>https://www.instagram.com/apparentlydaksh</td>\n",
       "      <td>66222558778</td>\n",
       "      <td>apparentlydaksh</td>\n",
       "      <td>https://www.instagram.com/apparentlydaksh</td>\n",
       "      <td>Daksh Kadyan</td>\n",
       "      <td>DTU’28</td>\n",
       "      <td>154.0</td>\n",
       "      <td>151.0</td>\n",
       "      <td>0.0</td>\n",
       "      <td>0.0</td>\n",
       "      <td>...</td>\n",
       "      <td>0.0</td>\n",
       "      <td>[]</td>\n",
       "      <td>[]</td>\n",
       "      <td>0.0</td>\n",
       "      <td>[]</td>\n",
       "      <td>NaN</td>\n",
       "      <td>NaN</td>\n",
       "      <td>NaN</td>\n",
       "      <td>NaN</td>\n",
       "      <td>NaN</td>\n",
       "    </tr>\n",
       "    <tr>\n",
       "      <th>3</th>\n",
       "      <td>https://www.instagram.com/rishabhraj1024</td>\n",
       "      <td>69630558552</td>\n",
       "      <td>rishabhraj1024</td>\n",
       "      <td>https://www.instagram.com/rishabhraj1024</td>\n",
       "      <td>Rishabh Raj</td>\n",
       "      <td>An introvert\\nDTU{DCE} '28\\nSoftware Engineering</td>\n",
       "      <td>116.0</td>\n",
       "      <td>151.0</td>\n",
       "      <td>0.0</td>\n",
       "      <td>0.0</td>\n",
       "      <td>...</td>\n",
       "      <td>0.0</td>\n",
       "      <td>[]</td>\n",
       "      <td>[]</td>\n",
       "      <td>0.0</td>\n",
       "      <td>[]</td>\n",
       "      <td>NaN</td>\n",
       "      <td>NaN</td>\n",
       "      <td>NaN</td>\n",
       "      <td>NaN</td>\n",
       "      <td>NaN</td>\n",
       "    </tr>\n",
       "    <tr>\n",
       "      <th>4</th>\n",
       "      <td>https://www.instagram.com/ashish.kr_04</td>\n",
       "      <td>67645285247</td>\n",
       "      <td>ashish.kr_04</td>\n",
       "      <td>https://www.instagram.com/ashish.kr_04</td>\n",
       "      <td>Ashish Kumar Jha</td>\n",
       "      <td>DTU (DCE)''28</td>\n",
       "      <td>156.0</td>\n",
       "      <td>185.0</td>\n",
       "      <td>0.0</td>\n",
       "      <td>0.0</td>\n",
       "      <td>...</td>\n",
       "      <td>0.0</td>\n",
       "      <td>[]</td>\n",
       "      <td>[]</td>\n",
       "      <td>0.0</td>\n",
       "      <td>[]</td>\n",
       "      <td>NaN</td>\n",
       "      <td>NaN</td>\n",
       "      <td>NaN</td>\n",
       "      <td>NaN</td>\n",
       "      <td>NaN</td>\n",
       "    </tr>\n",
       "  </tbody>\n",
       "</table>\n",
       "<p>5 rows × 27 columns</p>\n",
       "</div>"
      ],
      "text/plain": [
       "                                    inputUrl           id         username  \\\n",
       "0     https://www.instagram.com/gangesh.c_07  51578445672     gangesh.c_07   \n",
       "1       https://www.instagram.com/rahul._.gg   5700053758       rahul._.gg   \n",
       "2  https://www.instagram.com/apparentlydaksh  66222558778  apparentlydaksh   \n",
       "3   https://www.instagram.com/rishabhraj1024  69630558552   rishabhraj1024   \n",
       "4     https://www.instagram.com/ashish.kr_04  67645285247     ashish.kr_04   \n",
       "\n",
       "                                         url          fullName  \\\n",
       "0     https://www.instagram.com/gangesh.c_07    Gangesh Chopra   \n",
       "1       https://www.instagram.com/rahul._.gg             Rahul   \n",
       "2  https://www.instagram.com/apparentlydaksh      Daksh Kadyan   \n",
       "3   https://www.instagram.com/rishabhraj1024       Rishabh Raj   \n",
       "4     https://www.instagram.com/ashish.kr_04  Ashish Kumar Jha   \n",
       "\n",
       "                                          biography  followersCount  \\\n",
       "0                      :)\\ndldavsb'24\\nDTU MCE'28 🎓           278.0   \n",
       "1                                           🇮🇳🇸🇦\\n🥀           491.0   \n",
       "2                                            DTU’28           154.0   \n",
       "3  An introvert\\nDTU{DCE} '28\\nSoftware Engineering           116.0   \n",
       "4                                     DTU (DCE)''28           156.0   \n",
       "\n",
       "   followsCount  hasChannel  highlightReelCount  ...  igtvVideoCount  \\\n",
       "0         361.0         0.0                 0.0  ...             0.0   \n",
       "1         553.0         0.0                 0.0  ...             0.0   \n",
       "2         151.0         0.0                 0.0  ...             0.0   \n",
       "3         151.0         0.0                 0.0  ...             0.0   \n",
       "4         185.0         0.0                 0.0  ...             0.0   \n",
       "\n",
       "   relatedProfiles latestIgtvVideos  postsCount  latestPosts externalUrl  \\\n",
       "0               []               []         0.0           []         NaN   \n",
       "1               []               []         0.0           []         NaN   \n",
       "2               []               []         0.0           []         NaN   \n",
       "3               []               []         0.0           []         NaN   \n",
       "4               []               []         0.0           []         NaN   \n",
       "\n",
       "  externalUrlShimmed  error isRestrictedProfile restrictionReason  \n",
       "0                NaN    NaN                 NaN               NaN  \n",
       "1                NaN    NaN                 NaN               NaN  \n",
       "2                NaN    NaN                 NaN               NaN  \n",
       "3                NaN    NaN                 NaN               NaN  \n",
       "4                NaN    NaN                 NaN               NaN  \n",
       "\n",
       "[5 rows x 27 columns]"
      ]
     },
     "execution_count": 42,
     "metadata": {},
     "output_type": "execute_result"
    }
   ],
   "source": [
    "df1.head()"
   ]
  },
  {
   "cell_type": "code",
   "execution_count": 44,
   "id": "bd7a51b1-2c23-47bc-a2ef-b5ca32ef5b2d",
   "metadata": {},
   "outputs": [],
   "source": [
    "df1 = df1.drop(list(set(df1.columns) - set(df2.columns)), axis=\"columns\")"
   ]
  },
  {
   "cell_type": "code",
   "execution_count": 46,
   "id": "66eaf3de-366d-4117-b347-ea63da5c7660",
   "metadata": {},
   "outputs": [
    {
     "data": {
      "text/plain": [
       "24"
      ]
     },
     "execution_count": 46,
     "metadata": {},
     "output_type": "execute_result"
    }
   ],
   "source": [
    "len(df1.columns)"
   ]
  },
  {
   "cell_type": "code",
   "execution_count": 48,
   "id": "797158c1-1ef5-449d-8e13-e1a7e55d5202",
   "metadata": {},
   "outputs": [],
   "source": [
    "df1 = df1.drop([\"inputUrl\", \"id\", \"url\", \"profilePicUrl\", \"profilePicUrlHD\", \"externalUrl\", \"externalUrlShimmed\"], axis=\"columns\")\n",
    "df2 = df2.drop([\"inputUrl\", \"id\", \"url\", \"profilePicUrl\", \"profilePicUrlHD\", \"externalUrl\", \"externalUrlShimmed\"], axis=\"columns\")"
   ]
  },
  {
   "cell_type": "code",
   "execution_count": 52,
   "id": "f4a6b66a-17d9-4da8-b2b0-89d906432e3c",
   "metadata": {},
   "outputs": [],
   "source": [
    "df1.drop(\"fullName\", axis=\"columns\", inplace=True)\n",
    "df2.drop(\"fullName\", axis=\"columns\", inplace=True)"
   ]
  },
  {
   "cell_type": "code",
   "execution_count": 50,
   "id": "0173a2c4-fccb-44c7-8ba4-a84860832e87",
   "metadata": {},
   "outputs": [
    {
     "data": {
      "text/plain": [
       "Index(['user_biography', 'user_followers', 'user_following', 'user_is_private',\n",
       "       'user_is_verified', 'user_username', 'user_media_count',\n",
       "       'latest_media_comments', 'latest_media_likes'],\n",
       "      dtype='object')"
      ]
     },
     "execution_count": 50,
     "metadata": {},
     "output_type": "execute_result"
    }
   ],
   "source": [
    "df3.columns"
   ]
  },
  {
   "cell_type": "code",
   "execution_count": 53,
   "id": "1d2233d8-e865-4afd-bd0b-d1f7f3942248",
   "metadata": {},
   "outputs": [
    {
     "data": {
      "text/html": [
       "<div>\n",
       "<style scoped>\n",
       "    .dataframe tbody tr th:only-of-type {\n",
       "        vertical-align: middle;\n",
       "    }\n",
       "\n",
       "    .dataframe tbody tr th {\n",
       "        vertical-align: top;\n",
       "    }\n",
       "\n",
       "    .dataframe thead th {\n",
       "        text-align: right;\n",
       "    }\n",
       "</style>\n",
       "<table border=\"1\" class=\"dataframe\">\n",
       "  <thead>\n",
       "    <tr style=\"text-align: right;\">\n",
       "      <th></th>\n",
       "      <th>user_biography</th>\n",
       "      <th>user_followers</th>\n",
       "      <th>user_following</th>\n",
       "      <th>user_is_private</th>\n",
       "      <th>user_is_verified</th>\n",
       "      <th>user_username</th>\n",
       "      <th>user_media_count</th>\n",
       "      <th>latest_media_comments</th>\n",
       "      <th>latest_media_likes</th>\n",
       "    </tr>\n",
       "  </thead>\n",
       "  <tbody>\n",
       "    <tr>\n",
       "      <th>0</th>\n",
       "      <td>NaN</td>\n",
       "      <td>1027</td>\n",
       "      <td>1932</td>\n",
       "      <td>False</td>\n",
       "      <td>False</td>\n",
       "      <td>a.a.ghasami20</td>\n",
       "      <td>1</td>\n",
       "      <td>1.0</td>\n",
       "      <td>122.0</td>\n",
       "    </tr>\n",
       "    <tr>\n",
       "      <th>1</th>\n",
       "      <td>NaN</td>\n",
       "      <td>105</td>\n",
       "      <td>7195</td>\n",
       "      <td>False</td>\n",
       "      <td>False</td>\n",
       "      <td>amirijik1</td>\n",
       "      <td>9</td>\n",
       "      <td>0.0</td>\n",
       "      <td>2.0</td>\n",
       "    </tr>\n",
       "    <tr>\n",
       "      <th>2</th>\n",
       "      <td>NaN</td>\n",
       "      <td>98</td>\n",
       "      <td>1900</td>\n",
       "      <td>False</td>\n",
       "      <td>False</td>\n",
       "      <td>mohamah.kurd</td>\n",
       "      <td>4</td>\n",
       "      <td>0.0</td>\n",
       "      <td>10.0</td>\n",
       "    </tr>\n",
       "    <tr>\n",
       "      <th>3</th>\n",
       "      <td>NaN</td>\n",
       "      <td>124</td>\n",
       "      <td>7336</td>\n",
       "      <td>False</td>\n",
       "      <td>False</td>\n",
       "      <td>golmar0543</td>\n",
       "      <td>10</td>\n",
       "      <td>0.0</td>\n",
       "      <td>1.0</td>\n",
       "    </tr>\n",
       "    <tr>\n",
       "      <th>4</th>\n",
       "      <td>NaN</td>\n",
       "      <td>83</td>\n",
       "      <td>2410</td>\n",
       "      <td>True</td>\n",
       "      <td>False</td>\n",
       "      <td>sadegh_abde</td>\n",
       "      <td>24</td>\n",
       "      <td>NaN</td>\n",
       "      <td>NaN</td>\n",
       "    </tr>\n",
       "  </tbody>\n",
       "</table>\n",
       "</div>"
      ],
      "text/plain": [
       "  user_biography  user_followers  user_following  user_is_private  \\\n",
       "0            NaN            1027            1932            False   \n",
       "1            NaN             105            7195            False   \n",
       "2            NaN              98            1900            False   \n",
       "3            NaN             124            7336            False   \n",
       "4            NaN              83            2410             True   \n",
       "\n",
       "   user_is_verified  user_username  user_media_count  latest_media_comments  \\\n",
       "0             False  a.a.ghasami20                 1                    1.0   \n",
       "1             False      amirijik1                 9                    0.0   \n",
       "2             False   mohamah.kurd                 4                    0.0   \n",
       "3             False     golmar0543                10                    0.0   \n",
       "4             False    sadegh_abde                24                    NaN   \n",
       "\n",
       "   latest_media_likes  \n",
       "0               122.0  \n",
       "1                 2.0  \n",
       "2                10.0  \n",
       "3                 1.0  \n",
       "4                 NaN  "
      ]
     },
     "execution_count": 53,
     "metadata": {},
     "output_type": "execute_result"
    }
   ],
   "source": [
    "df3.head()"
   ]
  },
  {
   "cell_type": "code",
   "execution_count": 54,
   "id": "cb799918-2cc3-4ce2-8c24-2a1c67b6e1c3",
   "metadata": {},
   "outputs": [
    {
     "data": {
      "text/plain": [
       "Index(['username', 'biography', 'followersCount', 'followsCount', 'hasChannel',\n",
       "       'highlightReelCount', 'isBusinessAccount', 'joinedRecently',\n",
       "       'businessCategoryName', 'private', 'verified', 'igtvVideoCount',\n",
       "       'relatedProfiles', 'latestIgtvVideos', 'postsCount', 'latestPosts'],\n",
       "      dtype='object')"
      ]
     },
     "execution_count": 54,
     "metadata": {},
     "output_type": "execute_result"
    }
   ],
   "source": [
    "df1.columns"
   ]
  },
  {
   "cell_type": "code",
   "execution_count": 64,
   "id": "bf35e643-3a1a-4449-9705-45778638c93c",
   "metadata": {},
   "outputs": [],
   "source": [
    "df1[\"username_len\"] = df1[\"username\"].apply(len)\n",
    "df2[\"username_len\"] = df2[\"username\"].apply(len)\n",
    "df3[\"username_len\"] = df3[\"user_username\"].apply(len)"
   ]
  },
  {
   "cell_type": "code",
   "execution_count": 60,
   "id": "fded6db2-662e-4521-a13b-d73a423f7999",
   "metadata": {},
   "outputs": [],
   "source": [
    "def num_count(str):\n",
    "    count = 0\n",
    "    for i in str:\n",
    "        try:\n",
    "            x = int(i)\n",
    "        except:\n",
    "            pass\n",
    "        else:\n",
    "            count += 1\n",
    "    return count"
   ]
  },
  {
   "cell_type": "code",
   "execution_count": 65,
   "id": "3616fd0e-461f-49ab-8ec6-b999e1064fcd",
   "metadata": {},
   "outputs": [],
   "source": [
    "df1[\"username_num_count\"] = df1[\"username\"].apply(num_count)\n",
    "df2[\"username_num_count\"] = df2[\"username\"].apply(num_count)\n",
    "df3[\"username_num_count\"] = df3[\"user_username\"].apply(num_count)"
   ]
  },
  {
   "cell_type": "code",
   "execution_count": 62,
   "id": "d5eafdac-5649-4ec1-8f92-5ece4c8a4ee3",
   "metadata": {},
   "outputs": [
    {
     "data": {
      "text/html": [
       "<div>\n",
       "<style scoped>\n",
       "    .dataframe tbody tr th:only-of-type {\n",
       "        vertical-align: middle;\n",
       "    }\n",
       "\n",
       "    .dataframe tbody tr th {\n",
       "        vertical-align: top;\n",
       "    }\n",
       "\n",
       "    .dataframe thead th {\n",
       "        text-align: right;\n",
       "    }\n",
       "</style>\n",
       "<table border=\"1\" class=\"dataframe\">\n",
       "  <thead>\n",
       "    <tr style=\"text-align: right;\">\n",
       "      <th></th>\n",
       "      <th>username</th>\n",
       "      <th>biography</th>\n",
       "      <th>followersCount</th>\n",
       "      <th>followsCount</th>\n",
       "      <th>hasChannel</th>\n",
       "      <th>highlightReelCount</th>\n",
       "      <th>isBusinessAccount</th>\n",
       "      <th>joinedRecently</th>\n",
       "      <th>businessCategoryName</th>\n",
       "      <th>private</th>\n",
       "      <th>verified</th>\n",
       "      <th>igtvVideoCount</th>\n",
       "      <th>relatedProfiles</th>\n",
       "      <th>latestIgtvVideos</th>\n",
       "      <th>postsCount</th>\n",
       "      <th>latestPosts</th>\n",
       "      <th>username_len</th>\n",
       "      <th>username_num_count</th>\n",
       "    </tr>\n",
       "  </thead>\n",
       "  <tbody>\n",
       "    <tr>\n",
       "      <th>0</th>\n",
       "      <td>gangesh.c_07</td>\n",
       "      <td>:)\\ndldavsb'24\\nDTU MCE'28 🎓</td>\n",
       "      <td>278.0</td>\n",
       "      <td>361.0</td>\n",
       "      <td>0.0</td>\n",
       "      <td>0.0</td>\n",
       "      <td>0.0</td>\n",
       "      <td>0.0</td>\n",
       "      <td>None</td>\n",
       "      <td>True</td>\n",
       "      <td>False</td>\n",
       "      <td>0.0</td>\n",
       "      <td>[]</td>\n",
       "      <td>[]</td>\n",
       "      <td>0.0</td>\n",
       "      <td>[]</td>\n",
       "      <td>12</td>\n",
       "      <td>2</td>\n",
       "    </tr>\n",
       "    <tr>\n",
       "      <th>1</th>\n",
       "      <td>rahul._.gg</td>\n",
       "      <td>🇮🇳🇸🇦\\n🥀</td>\n",
       "      <td>491.0</td>\n",
       "      <td>553.0</td>\n",
       "      <td>0.0</td>\n",
       "      <td>0.0</td>\n",
       "      <td>0.0</td>\n",
       "      <td>0.0</td>\n",
       "      <td>None</td>\n",
       "      <td>True</td>\n",
       "      <td>False</td>\n",
       "      <td>0.0</td>\n",
       "      <td>[]</td>\n",
       "      <td>[]</td>\n",
       "      <td>0.0</td>\n",
       "      <td>[]</td>\n",
       "      <td>10</td>\n",
       "      <td>0</td>\n",
       "    </tr>\n",
       "    <tr>\n",
       "      <th>2</th>\n",
       "      <td>apparentlydaksh</td>\n",
       "      <td>DTU’28</td>\n",
       "      <td>154.0</td>\n",
       "      <td>151.0</td>\n",
       "      <td>0.0</td>\n",
       "      <td>0.0</td>\n",
       "      <td>0.0</td>\n",
       "      <td>0.0</td>\n",
       "      <td>None</td>\n",
       "      <td>True</td>\n",
       "      <td>False</td>\n",
       "      <td>0.0</td>\n",
       "      <td>[]</td>\n",
       "      <td>[]</td>\n",
       "      <td>0.0</td>\n",
       "      <td>[]</td>\n",
       "      <td>15</td>\n",
       "      <td>0</td>\n",
       "    </tr>\n",
       "    <tr>\n",
       "      <th>3</th>\n",
       "      <td>rishabhraj1024</td>\n",
       "      <td>An introvert\\nDTU{DCE} '28\\nSoftware Engineering</td>\n",
       "      <td>116.0</td>\n",
       "      <td>151.0</td>\n",
       "      <td>0.0</td>\n",
       "      <td>0.0</td>\n",
       "      <td>0.0</td>\n",
       "      <td>0.0</td>\n",
       "      <td>None</td>\n",
       "      <td>True</td>\n",
       "      <td>False</td>\n",
       "      <td>0.0</td>\n",
       "      <td>[]</td>\n",
       "      <td>[]</td>\n",
       "      <td>0.0</td>\n",
       "      <td>[]</td>\n",
       "      <td>14</td>\n",
       "      <td>4</td>\n",
       "    </tr>\n",
       "    <tr>\n",
       "      <th>4</th>\n",
       "      <td>ashish.kr_04</td>\n",
       "      <td>DTU (DCE)''28</td>\n",
       "      <td>156.0</td>\n",
       "      <td>185.0</td>\n",
       "      <td>0.0</td>\n",
       "      <td>0.0</td>\n",
       "      <td>0.0</td>\n",
       "      <td>0.0</td>\n",
       "      <td>None</td>\n",
       "      <td>True</td>\n",
       "      <td>False</td>\n",
       "      <td>0.0</td>\n",
       "      <td>[]</td>\n",
       "      <td>[]</td>\n",
       "      <td>0.0</td>\n",
       "      <td>[]</td>\n",
       "      <td>12</td>\n",
       "      <td>2</td>\n",
       "    </tr>\n",
       "  </tbody>\n",
       "</table>\n",
       "</div>"
      ],
      "text/plain": [
       "          username                                         biography  \\\n",
       "0     gangesh.c_07                      :)\\ndldavsb'24\\nDTU MCE'28 🎓   \n",
       "1       rahul._.gg                                           🇮🇳🇸🇦\\n🥀   \n",
       "2  apparentlydaksh                                            DTU’28   \n",
       "3   rishabhraj1024  An introvert\\nDTU{DCE} '28\\nSoftware Engineering   \n",
       "4     ashish.kr_04                                     DTU (DCE)''28   \n",
       "\n",
       "   followersCount  followsCount  hasChannel  highlightReelCount  \\\n",
       "0           278.0         361.0         0.0                 0.0   \n",
       "1           491.0         553.0         0.0                 0.0   \n",
       "2           154.0         151.0         0.0                 0.0   \n",
       "3           116.0         151.0         0.0                 0.0   \n",
       "4           156.0         185.0         0.0                 0.0   \n",
       "\n",
       "   isBusinessAccount  joinedRecently businessCategoryName  private  verified  \\\n",
       "0                0.0             0.0                 None     True     False   \n",
       "1                0.0             0.0                 None     True     False   \n",
       "2                0.0             0.0                 None     True     False   \n",
       "3                0.0             0.0                 None     True     False   \n",
       "4                0.0             0.0                 None     True     False   \n",
       "\n",
       "   igtvVideoCount relatedProfiles latestIgtvVideos  postsCount latestPosts  \\\n",
       "0             0.0              []               []         0.0          []   \n",
       "1             0.0              []               []         0.0          []   \n",
       "2             0.0              []               []         0.0          []   \n",
       "3             0.0              []               []         0.0          []   \n",
       "4             0.0              []               []         0.0          []   \n",
       "\n",
       "   username_len  username_num_count  \n",
       "0            12                   2  \n",
       "1            10                   0  \n",
       "2            15                   0  \n",
       "3            14                   4  \n",
       "4            12                   2  "
      ]
     },
     "execution_count": 62,
     "metadata": {},
     "output_type": "execute_result"
    }
   ],
   "source": [
    "df1.head()"
   ]
  },
  {
   "cell_type": "code",
   "execution_count": 67,
   "id": "dd9bc3d4-582d-40ba-8525-6daf573a8245",
   "metadata": {},
   "outputs": [],
   "source": [
    "df1[\"username_ratio\"] = df1[\"username_num_count\"] / df1[\"username_len\"]\n",
    "df2[\"username_ratio\"] = df2[\"username_num_count\"] / df2[\"username_len\"]\n",
    "df3[\"username_ratio\"] = df3[\"username_num_count\"] / df3[\"username_len\"]"
   ]
  },
  {
   "cell_type": "code",
   "execution_count": 68,
   "id": "7938db5e-96fb-4c28-b219-d0cb6ff5865a",
   "metadata": {},
   "outputs": [
    {
     "data": {
      "text/plain": [
       "Index(['username', 'biography', 'followersCount', 'followsCount', 'hasChannel',\n",
       "       'highlightReelCount', 'isBusinessAccount', 'joinedRecently',\n",
       "       'businessCategoryName', 'private', 'verified', 'igtvVideoCount',\n",
       "       'relatedProfiles', 'latestIgtvVideos', 'postsCount', 'latestPosts',\n",
       "       'username_len', 'username_num_count', 'username_ratio'],\n",
       "      dtype='object')"
      ]
     },
     "execution_count": 68,
     "metadata": {},
     "output_type": "execute_result"
    }
   ],
   "source": [
    "df1.columns"
   ]
  },
  {
   "cell_type": "code",
   "execution_count": 72,
   "id": "e69b836d-8620-4aef-a1fb-77f2d70a5b7b",
   "metadata": {},
   "outputs": [
    {
     "data": {
      "text/plain": [
       "Index(['username', 'biography', 'followersCount', 'followsCount', 'hasChannel',\n",
       "       'highlightReelCount', 'isBusinessAccount', 'joinedRecently',\n",
       "       'businessCategoryName', 'private', 'verified', 'igtvVideoCount',\n",
       "       'relatedProfiles', 'latestIgtvVideos', 'postsCount', 'latestPosts',\n",
       "       'username_len', 'username_num_count', 'username_ratio'],\n",
       "      dtype='object')"
      ]
     },
     "execution_count": 72,
     "metadata": {},
     "output_type": "execute_result"
    }
   ],
   "source": [
    "df2.columns"
   ]
  },
  {
   "cell_type": "code",
   "execution_count": 71,
   "id": "3e1fa5bb-6711-402a-a664-1a652d4fd9bd",
   "metadata": {},
   "outputs": [
    {
     "data": {
      "text/plain": [
       "Index(['user_biography', 'user_followers', 'user_following', 'user_is_private',\n",
       "       'user_is_verified', 'user_username', 'user_media_count',\n",
       "       'latest_media_comments', 'latest_media_likes', 'username_len',\n",
       "       'username_num_count', 'username_ratio'],\n",
       "      dtype='object')"
      ]
     },
     "execution_count": 71,
     "metadata": {},
     "output_type": "execute_result"
    }
   ],
   "source": [
    "df3.columns"
   ]
  },
  {
   "cell_type": "code",
   "execution_count": 81,
   "id": "8d8a5732-737f-4e54-94c8-a67f5a71303e",
   "metadata": {},
   "outputs": [],
   "source": [
    "df1.drop(\"joinedRecently\", axis=\"columns\", inplace=True)\n",
    "df2.drop(\"joinedRecently\", axis=\"columns\", inplace=True)"
   ]
  },
  {
   "cell_type": "code",
   "execution_count": 82,
   "id": "b56a92f8-fb61-4cc2-b7ea-825729668a0e",
   "metadata": {},
   "outputs": [
    {
     "data": {
      "text/plain": [
       "Index(['username', 'biography', 'followersCount', 'followsCount', 'hasChannel',\n",
       "       'highlightReelCount', 'isBusinessAccount', 'businessCategoryName',\n",
       "       'private', 'verified', 'igtvVideoCount', 'relatedProfiles',\n",
       "       'latestIgtvVideos', 'postsCount', 'latestPosts', 'username_len',\n",
       "       'username_num_count', 'username_ratio'],\n",
       "      dtype='object')"
      ]
     },
     "execution_count": 82,
     "metadata": {},
     "output_type": "execute_result"
    }
   ],
   "source": [
    "df1.columns"
   ]
  },
  {
   "cell_type": "code",
   "execution_count": 83,
   "id": "39c19d60-68b0-4889-b659-49eb70768ad8",
   "metadata": {},
   "outputs": [
    {
     "data": {
      "text/plain": [
       "Index(['username', 'biography', 'followersCount', 'followsCount', 'hasChannel',\n",
       "       'highlightReelCount', 'isBusinessAccount', 'businessCategoryName',\n",
       "       'private', 'verified', 'igtvVideoCount', 'relatedProfiles',\n",
       "       'latestIgtvVideos', 'postsCount', 'latestPosts', 'username_len',\n",
       "       'username_num_count', 'username_ratio'],\n",
       "      dtype='object')"
      ]
     },
     "execution_count": 83,
     "metadata": {},
     "output_type": "execute_result"
    }
   ],
   "source": [
    "df2.columns"
   ]
  },
  {
   "cell_type": "code",
   "execution_count": 91,
   "id": "1764a95b-ee7b-4e3b-8812-1a874949f0ab",
   "metadata": {},
   "outputs": [],
   "source": [
    "df1.drop(\"hasChannel\", axis=\"columns\", inplace=True)\n",
    "df2.drop(\"hasChannel\", axis=\"columns\", inplace=True)"
   ]
  },
  {
   "cell_type": "code",
   "execution_count": 92,
   "id": "8ee44bfb-e3a6-4442-8f01-c2bc7ede8874",
   "metadata": {},
   "outputs": [
    {
     "data": {
      "text/plain": [
       "Index(['username', 'biography', 'followersCount', 'followsCount',\n",
       "       'highlightReelCount', 'isBusinessAccount', 'businessCategoryName',\n",
       "       'private', 'verified', 'igtvVideoCount', 'relatedProfiles',\n",
       "       'latestIgtvVideos', 'postsCount', 'latestPosts', 'username_len',\n",
       "       'username_num_count', 'username_ratio'],\n",
       "      dtype='object')"
      ]
     },
     "execution_count": 92,
     "metadata": {},
     "output_type": "execute_result"
    }
   ],
   "source": [
    "df1.columns"
   ]
  },
  {
   "cell_type": "code",
   "execution_count": 94,
   "id": "4129c6f5-7356-42e9-b383-e1526c994cd2",
   "metadata": {},
   "outputs": [],
   "source": [
    "df1.drop([\"businessCategoryName\", \"igtvVideoCount\", \"relatedProfiles\", \"latestIgtvVideos\"], axis=\"columns\", inplace=True)\n",
    "df2.drop([\"businessCategoryName\", \"igtvVideoCount\", \"relatedProfiles\", \"latestIgtvVideos\"], axis=\"columns\", inplace=True)"
   ]
  },
  {
   "cell_type": "code",
   "execution_count": 95,
   "id": "bf1174f5-6172-41c8-8372-c817111ec43d",
   "metadata": {},
   "outputs": [
    {
     "data": {
      "text/plain": [
       "Index(['username', 'biography', 'followersCount', 'followsCount',\n",
       "       'highlightReelCount', 'isBusinessAccount', 'private', 'verified',\n",
       "       'postsCount', 'latestPosts', 'username_len', 'username_num_count',\n",
       "       'username_ratio'],\n",
       "      dtype='object')"
      ]
     },
     "execution_count": 95,
     "metadata": {},
     "output_type": "execute_result"
    }
   ],
   "source": [
    "df1.columns"
   ]
  },
  {
   "cell_type": "code",
   "execution_count": 96,
   "id": "79ee6333-b050-427e-8dc7-35de483e8f99",
   "metadata": {},
   "outputs": [
    {
     "data": {
      "text/plain": [
       "Index(['username', 'biography', 'followersCount', 'followsCount',\n",
       "       'highlightReelCount', 'isBusinessAccount', 'private', 'verified',\n",
       "       'postsCount', 'latestPosts', 'username_len', 'username_num_count',\n",
       "       'username_ratio'],\n",
       "      dtype='object')"
      ]
     },
     "execution_count": 96,
     "metadata": {},
     "output_type": "execute_result"
    }
   ],
   "source": [
    "df2.columns"
   ]
  },
  {
   "cell_type": "code",
   "execution_count": 99,
   "id": "945be0b6-833d-4e37-af9c-dab1a2e33f1f",
   "metadata": {},
   "outputs": [
    {
     "data": {
      "text/plain": [
       "Index(['user_biography', 'user_followers', 'user_following', 'user_is_private',\n",
       "       'user_is_verified', 'user_username', 'user_media_count',\n",
       "       'latest_media_comments', 'latest_media_likes', 'username_len',\n",
       "       'username_num_count', 'username_ratio'],\n",
       "      dtype='object')"
      ]
     },
     "execution_count": 99,
     "metadata": {},
     "output_type": "execute_result"
    }
   ],
   "source": [
    "df3.columns"
   ]
  },
  {
   "cell_type": "code",
   "execution_count": 100,
   "id": "629982bc-1ded-4f1c-98a8-cd46243e40ea",
   "metadata": {},
   "outputs": [
    {
     "ename": "TypeError",
     "evalue": "object of type 'float' has no len()",
     "output_type": "error",
     "traceback": [
      "\u001b[0;31m---------------------------------------------------------------------------\u001b[0m",
      "\u001b[0;31mTypeError\u001b[0m                                 Traceback (most recent call last)",
      "Cell \u001b[0;32mIn[100], line 3\u001b[0m\n\u001b[1;32m      1\u001b[0m df1[\u001b[38;5;124m\"\u001b[39m\u001b[38;5;124mbiography_len\u001b[39m\u001b[38;5;124m\"\u001b[39m] \u001b[38;5;241m=\u001b[39m df1[\u001b[38;5;124m\"\u001b[39m\u001b[38;5;124mbiography\u001b[39m\u001b[38;5;124m\"\u001b[39m]\u001b[38;5;241m.\u001b[39mapply(\u001b[38;5;28mlen\u001b[39m)\n\u001b[1;32m      2\u001b[0m df2[\u001b[38;5;124m\"\u001b[39m\u001b[38;5;124mbiography_len\u001b[39m\u001b[38;5;124m\"\u001b[39m] \u001b[38;5;241m=\u001b[39m df2[\u001b[38;5;124m\"\u001b[39m\u001b[38;5;124mbiography\u001b[39m\u001b[38;5;124m\"\u001b[39m]\u001b[38;5;241m.\u001b[39mapply(\u001b[38;5;28mlen\u001b[39m)\n\u001b[0;32m----> 3\u001b[0m df3[\u001b[38;5;124m\"\u001b[39m\u001b[38;5;124mbiography_len\u001b[39m\u001b[38;5;124m\"\u001b[39m] \u001b[38;5;241m=\u001b[39m df3[\u001b[38;5;124m\"\u001b[39m\u001b[38;5;124muser_biography\u001b[39m\u001b[38;5;124m\"\u001b[39m]\u001b[38;5;241m.\u001b[39mapply(\u001b[38;5;28mlen\u001b[39m)\n",
      "File \u001b[0;32m~/anaconda3/lib/python3.12/site-packages/pandas/core/series.py:4924\u001b[0m, in \u001b[0;36mSeries.apply\u001b[0;34m(self, func, convert_dtype, args, by_row, **kwargs)\u001b[0m\n\u001b[1;32m   4789\u001b[0m \u001b[38;5;28;01mdef\u001b[39;00m \u001b[38;5;21mapply\u001b[39m(\n\u001b[1;32m   4790\u001b[0m     \u001b[38;5;28mself\u001b[39m,\n\u001b[1;32m   4791\u001b[0m     func: AggFuncType,\n\u001b[0;32m   (...)\u001b[0m\n\u001b[1;32m   4796\u001b[0m     \u001b[38;5;241m*\u001b[39m\u001b[38;5;241m*\u001b[39mkwargs,\n\u001b[1;32m   4797\u001b[0m ) \u001b[38;5;241m-\u001b[39m\u001b[38;5;241m>\u001b[39m DataFrame \u001b[38;5;241m|\u001b[39m Series:\n\u001b[1;32m   4798\u001b[0m \u001b[38;5;250m    \u001b[39m\u001b[38;5;124;03m\"\"\"\u001b[39;00m\n\u001b[1;32m   4799\u001b[0m \u001b[38;5;124;03m    Invoke function on values of Series.\u001b[39;00m\n\u001b[1;32m   4800\u001b[0m \n\u001b[0;32m   (...)\u001b[0m\n\u001b[1;32m   4915\u001b[0m \u001b[38;5;124;03m    dtype: float64\u001b[39;00m\n\u001b[1;32m   4916\u001b[0m \u001b[38;5;124;03m    \"\"\"\u001b[39;00m\n\u001b[1;32m   4917\u001b[0m     \u001b[38;5;28;01mreturn\u001b[39;00m SeriesApply(\n\u001b[1;32m   4918\u001b[0m         \u001b[38;5;28mself\u001b[39m,\n\u001b[1;32m   4919\u001b[0m         func,\n\u001b[1;32m   4920\u001b[0m         convert_dtype\u001b[38;5;241m=\u001b[39mconvert_dtype,\n\u001b[1;32m   4921\u001b[0m         by_row\u001b[38;5;241m=\u001b[39mby_row,\n\u001b[1;32m   4922\u001b[0m         args\u001b[38;5;241m=\u001b[39margs,\n\u001b[1;32m   4923\u001b[0m         kwargs\u001b[38;5;241m=\u001b[39mkwargs,\n\u001b[0;32m-> 4924\u001b[0m     )\u001b[38;5;241m.\u001b[39mapply()\n",
      "File \u001b[0;32m~/anaconda3/lib/python3.12/site-packages/pandas/core/apply.py:1427\u001b[0m, in \u001b[0;36mSeriesApply.apply\u001b[0;34m(self)\u001b[0m\n\u001b[1;32m   1424\u001b[0m     \u001b[38;5;28;01mreturn\u001b[39;00m \u001b[38;5;28mself\u001b[39m\u001b[38;5;241m.\u001b[39mapply_compat()\n\u001b[1;32m   1426\u001b[0m \u001b[38;5;66;03m# self.func is Callable\u001b[39;00m\n\u001b[0;32m-> 1427\u001b[0m \u001b[38;5;28;01mreturn\u001b[39;00m \u001b[38;5;28mself\u001b[39m\u001b[38;5;241m.\u001b[39mapply_standard()\n",
      "File \u001b[0;32m~/anaconda3/lib/python3.12/site-packages/pandas/core/apply.py:1507\u001b[0m, in \u001b[0;36mSeriesApply.apply_standard\u001b[0;34m(self)\u001b[0m\n\u001b[1;32m   1501\u001b[0m \u001b[38;5;66;03m# row-wise access\u001b[39;00m\n\u001b[1;32m   1502\u001b[0m \u001b[38;5;66;03m# apply doesn't have a `na_action` keyword and for backward compat reasons\u001b[39;00m\n\u001b[1;32m   1503\u001b[0m \u001b[38;5;66;03m# we need to give `na_action=\"ignore\"` for categorical data.\u001b[39;00m\n\u001b[1;32m   1504\u001b[0m \u001b[38;5;66;03m# TODO: remove the `na_action=\"ignore\"` when that default has been changed in\u001b[39;00m\n\u001b[1;32m   1505\u001b[0m \u001b[38;5;66;03m#  Categorical (GH51645).\u001b[39;00m\n\u001b[1;32m   1506\u001b[0m action \u001b[38;5;241m=\u001b[39m \u001b[38;5;124m\"\u001b[39m\u001b[38;5;124mignore\u001b[39m\u001b[38;5;124m\"\u001b[39m \u001b[38;5;28;01mif\u001b[39;00m \u001b[38;5;28misinstance\u001b[39m(obj\u001b[38;5;241m.\u001b[39mdtype, CategoricalDtype) \u001b[38;5;28;01melse\u001b[39;00m \u001b[38;5;28;01mNone\u001b[39;00m\n\u001b[0;32m-> 1507\u001b[0m mapped \u001b[38;5;241m=\u001b[39m obj\u001b[38;5;241m.\u001b[39m_map_values(\n\u001b[1;32m   1508\u001b[0m     mapper\u001b[38;5;241m=\u001b[39mcurried, na_action\u001b[38;5;241m=\u001b[39maction, convert\u001b[38;5;241m=\u001b[39m\u001b[38;5;28mself\u001b[39m\u001b[38;5;241m.\u001b[39mconvert_dtype\n\u001b[1;32m   1509\u001b[0m )\n\u001b[1;32m   1511\u001b[0m \u001b[38;5;28;01mif\u001b[39;00m \u001b[38;5;28mlen\u001b[39m(mapped) \u001b[38;5;129;01mand\u001b[39;00m \u001b[38;5;28misinstance\u001b[39m(mapped[\u001b[38;5;241m0\u001b[39m], ABCSeries):\n\u001b[1;32m   1512\u001b[0m     \u001b[38;5;66;03m# GH#43986 Need to do list(mapped) in order to get treated as nested\u001b[39;00m\n\u001b[1;32m   1513\u001b[0m     \u001b[38;5;66;03m#  See also GH#25959 regarding EA support\u001b[39;00m\n\u001b[1;32m   1514\u001b[0m     \u001b[38;5;28;01mreturn\u001b[39;00m obj\u001b[38;5;241m.\u001b[39m_constructor_expanddim(\u001b[38;5;28mlist\u001b[39m(mapped), index\u001b[38;5;241m=\u001b[39mobj\u001b[38;5;241m.\u001b[39mindex)\n",
      "File \u001b[0;32m~/anaconda3/lib/python3.12/site-packages/pandas/core/base.py:921\u001b[0m, in \u001b[0;36mIndexOpsMixin._map_values\u001b[0;34m(self, mapper, na_action, convert)\u001b[0m\n\u001b[1;32m    918\u001b[0m \u001b[38;5;28;01mif\u001b[39;00m \u001b[38;5;28misinstance\u001b[39m(arr, ExtensionArray):\n\u001b[1;32m    919\u001b[0m     \u001b[38;5;28;01mreturn\u001b[39;00m arr\u001b[38;5;241m.\u001b[39mmap(mapper, na_action\u001b[38;5;241m=\u001b[39mna_action)\n\u001b[0;32m--> 921\u001b[0m \u001b[38;5;28;01mreturn\u001b[39;00m algorithms\u001b[38;5;241m.\u001b[39mmap_array(arr, mapper, na_action\u001b[38;5;241m=\u001b[39mna_action, convert\u001b[38;5;241m=\u001b[39mconvert)\n",
      "File \u001b[0;32m~/anaconda3/lib/python3.12/site-packages/pandas/core/algorithms.py:1743\u001b[0m, in \u001b[0;36mmap_array\u001b[0;34m(arr, mapper, na_action, convert)\u001b[0m\n\u001b[1;32m   1741\u001b[0m values \u001b[38;5;241m=\u001b[39m arr\u001b[38;5;241m.\u001b[39mastype(\u001b[38;5;28mobject\u001b[39m, copy\u001b[38;5;241m=\u001b[39m\u001b[38;5;28;01mFalse\u001b[39;00m)\n\u001b[1;32m   1742\u001b[0m \u001b[38;5;28;01mif\u001b[39;00m na_action \u001b[38;5;129;01mis\u001b[39;00m \u001b[38;5;28;01mNone\u001b[39;00m:\n\u001b[0;32m-> 1743\u001b[0m     \u001b[38;5;28;01mreturn\u001b[39;00m lib\u001b[38;5;241m.\u001b[39mmap_infer(values, mapper, convert\u001b[38;5;241m=\u001b[39mconvert)\n\u001b[1;32m   1744\u001b[0m \u001b[38;5;28;01melse\u001b[39;00m:\n\u001b[1;32m   1745\u001b[0m     \u001b[38;5;28;01mreturn\u001b[39;00m lib\u001b[38;5;241m.\u001b[39mmap_infer_mask(\n\u001b[1;32m   1746\u001b[0m         values, mapper, mask\u001b[38;5;241m=\u001b[39misna(values)\u001b[38;5;241m.\u001b[39mview(np\u001b[38;5;241m.\u001b[39muint8), convert\u001b[38;5;241m=\u001b[39mconvert\n\u001b[1;32m   1747\u001b[0m     )\n",
      "File \u001b[0;32mlib.pyx:2972\u001b[0m, in \u001b[0;36mpandas._libs.lib.map_infer\u001b[0;34m()\u001b[0m\n",
      "\u001b[0;31mTypeError\u001b[0m: object of type 'float' has no len()"
     ]
    }
   ],
   "source": [
    "df1[\"biography_len\"] = df1[\"biography\"].apply(len)\n",
    "df2[\"biography_len\"] = df2[\"biography\"].apply(len)\n",
    "df3[\"biography_len\"] = df3[\"user_biography\"].apply(len)"
   ]
  },
  {
   "cell_type": "code",
   "execution_count": 101,
   "id": "fa825c25-868c-46ac-978b-7a75cbba9d6d",
   "metadata": {},
   "outputs": [
    {
     "data": {
      "text/plain": [
       "0                                       NaN\n",
       "1                                       NaN\n",
       "2                                       NaN\n",
       "3                                       NaN\n",
       "4                                       NaN\n",
       "                       ...                 \n",
       "688                                     NaN\n",
       "689    @hesam_mohammdi.official پیج اول❤❤❤❤\n",
       "690                                     NaN\n",
       "691                                     NaN\n",
       "692                Fqd to balade qlbmi ♥️a🧿\n",
       "Name: user_biography, Length: 693, dtype: object"
      ]
     },
     "execution_count": 101,
     "metadata": {},
     "output_type": "execute_result"
    }
   ],
   "source": [
    "df2[\"user_biography\"]"
   ]
  },
  {
   "cell_type": "code",
   "execution_count": null,
   "id": "a8eefcb4-b748-472d-aa7b-0d99c724f4ec",
   "metadata": {},
   "outputs": [],
   "source": []
  }
 ],
 "metadata": {
  "kernelspec": {
   "display_name": "Python 3 (ipykernel)",
   "language": "python",
   "name": "python3"
  },
  "language_info": {
   "codemirror_mode": {
    "name": "ipython",
    "version": 3
   },
   "file_extension": ".py",
   "mimetype": "text/x-python",
   "name": "python",
   "nbconvert_exporter": "python",
   "pygments_lexer": "ipython3",
   "version": "3.12.4"
  }
 },
 "nbformat": 4,
 "nbformat_minor": 5
}
